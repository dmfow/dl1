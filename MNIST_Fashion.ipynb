{
 "cells": [
  {
   "cell_type": "markdown",
   "metadata": {},
   "source": [
    "#### MNIST Fashion"
   ]
  },
  {
   "cell_type": "markdown",
   "metadata": {},
   "source": [
    "umu-id: anth2786\n",
    "\n",
    "The code is based on code from:\n",
    "\n",
    "    - Jeff Heaton: https://github.com/jeffheaton/t81_558_deep_learning/blob/master/t81_558_class_06_2_cnn.ipynb\n",
    "    \n",
    "    - Aurélien Géron, Hands-On Machine Learning with Scikit-Learn, Keras & Tensorflow, 2019\n",
    "    \n",
    "    - https://stackoverflow.com/questions/54589669/confusion-matrix-error-classification-metrics-cant-handle-a-mix-of-multilabel regarding getting the confusion matrix working"
   ]
  },
  {
   "cell_type": "code",
   "execution_count": 1,
   "metadata": {},
   "outputs": [
    {
     "name": "stdout",
     "output_type": "stream",
     "text": [
      "Tensorflow version: 2.3.1\n",
      "Keras version: 2.4.0\n"
     ]
    }
   ],
   "source": [
    "import tensorflow as tf\n",
    "print('Tensorflow version:', tf.__version__)\n",
    "\n",
    "import tensorflow.keras\n",
    "print('Keras version:', tensorflow.keras.__version__)\n",
    "\n",
    "# Import Early stopping which stops traing whan a monitored metric has been reached\n",
    "from tensorflow.keras.callbacks import EarlyStopping\n",
    "# Import Dense, which is a \"normal\" NN layer with the function output = activation(dot(input, kernel) + bias)\n",
    "from tensorflow.keras.layers import Dense\n",
    "# Import Dropout. Dropout prvents overfitting by applying 0 as input units randomly, during trainng (only training)\n",
    "from tensorflow.keras.layers import Dropout\n",
    "# Import Regularizers. Makes it possible to apply penalties on activity, bias or kernel. It is applied per layer\n",
    "from tensorflow.keras import regularizers\n",
    "\n",
    "\n"
   ]
  },
  {
   "cell_type": "code",
   "execution_count": 2,
   "metadata": {},
   "outputs": [],
   "source": [
    "# Import the Fashoin MNIST dataset, which is part of Keras\n",
    "from tensorflow.keras.datasets import fashion_mnist\n",
    "\n",
    "# Get the data from the Keras Database\n",
    "(x_train0, y_train0), (x_test, y_test) = fashion_mnist.load_data()\n",
    "#(x_train, y_train), (x_test, y_test) = fashion_mnist.load_data()\n"
   ]
  },
  {
   "cell_type": "markdown",
   "metadata": {},
   "source": [
    "#### Split the training data into traning and validation"
   ]
  },
  {
   "cell_type": "code",
   "execution_count": 3,
   "metadata": {},
   "outputs": [
    {
     "name": "stdout",
     "output_type": "stream",
     "text": [
      "Shape of x_train: (51000, 28, 28)\n",
      "Shape of y_train (Labels): (51000,)\n",
      "Labels: [7 7 5 ... 7 5 2]\n",
      "\n",
      "Shape of x_val: (9000, 28, 28)\n",
      "Shape of y_val (Labels): (9000,)\n",
      "Labels: [1 0 3 ... 1 3 0]\n",
      "\n",
      "Shape of x_test: (10000, 28, 28)\n",
      "Shape of y_test (Labels): (10000,)\n",
      "Labels: [9 2 1 ... 8 1 5]\n",
      "\n"
     ]
    }
   ],
   "source": [
    "import sklearn\n",
    "# import a method to split traning data into two parts; training and validation data\n",
    "from sklearn.model_selection import train_test_split\n",
    "\n",
    "# Split the training set into a trainng and a validation set (15% validation)\n",
    "x_train, x_val, y_train, y_val = train_test_split(x_train0, y_train0, test_size = 0.15)\n",
    "\n",
    "#train_no,x,y = x_train.shape\n",
    "#test_no,x,y = x_test.shape\n",
    "#val_no,x,y = x_val.shape\n",
    "\n",
    "#if (len(y_train) != len(x_train)) : print('Number of training labels do not match the data')\n",
    "#if (len(y_test) != len(x_test)) : print('Number of test labels do not match the data')\n",
    "#if (len(y_val) != len(x_val)) : print('Number of validation labels do not match the data')\n",
    "\n",
    "# Print the shapes of the data\n",
    "print(\"Shape of x_train: {}\".format(x_train.shape))\n",
    "print(\"Shape of y_train (Labels): {}\".format(y_train.shape))\n",
    "print(\"Labels: {}\".format(y_train))\n",
    "print()\n",
    "print(\"Shape of x_val: {}\".format(x_val.shape))\n",
    "print(\"Shape of y_val (Labels): {}\".format(y_val.shape))\n",
    "print(\"Labels: {}\".format(y_val))\n",
    "print()\n",
    "print(\"Shape of x_test: {}\".format(x_test.shape))\n",
    "print(\"Shape of y_test (Labels): {}\".format(y_test.shape))\n",
    "print(\"Labels: {}\".format(y_test))\n",
    "print()\n",
    "\n"
   ]
  },
  {
   "cell_type": "markdown",
   "metadata": {},
   "source": [
    "#### Display the Apparel as text"
   ]
  },
  {
   "cell_type": "code",
   "execution_count": 8,
   "metadata": {},
   "outputs": [
    {
     "name": "stdout",
     "output_type": "stream",
     "text": [
      "Image number: \n",
      "Shape for single: (28, 28)\n"
     ]
    },
    {
     "data": {
      "text/html": [
       "<div>\n",
       "<style scoped>\n",
       "    .dataframe tbody tr th:only-of-type {\n",
       "        vertical-align: middle;\n",
       "    }\n",
       "\n",
       "    .dataframe tbody tr th {\n",
       "        vertical-align: top;\n",
       "    }\n",
       "\n",
       "    .dataframe thead th {\n",
       "        text-align: right;\n",
       "    }\n",
       "</style>\n",
       "<table border=\"1\" class=\"dataframe\">\n",
       "  <thead>\n",
       "    <tr style=\"text-align: right;\">\n",
       "      <th></th>\n",
       "      <th>0</th>\n",
       "      <th>1</th>\n",
       "      <th>2</th>\n",
       "      <th>3</th>\n",
       "      <th>4</th>\n",
       "      <th>5</th>\n",
       "      <th>6</th>\n",
       "      <th>7</th>\n",
       "      <th>8</th>\n",
       "      <th>9</th>\n",
       "      <th>10</th>\n",
       "      <th>11</th>\n",
       "      <th>12</th>\n",
       "      <th>...</th>\n",
       "      <th>15</th>\n",
       "      <th>16</th>\n",
       "      <th>17</th>\n",
       "      <th>18</th>\n",
       "      <th>19</th>\n",
       "      <th>20</th>\n",
       "      <th>21</th>\n",
       "      <th>22</th>\n",
       "      <th>23</th>\n",
       "      <th>24</th>\n",
       "      <th>25</th>\n",
       "      <th>26</th>\n",
       "      <th>27</th>\n",
       "    </tr>\n",
       "  </thead>\n",
       "  <tbody>\n",
       "    <tr>\n",
       "      <th>0</th>\n",
       "      <td>0</td>\n",
       "      <td>0</td>\n",
       "      <td>0</td>\n",
       "      <td>0</td>\n",
       "      <td>0</td>\n",
       "      <td>0</td>\n",
       "      <td>0</td>\n",
       "      <td>0</td>\n",
       "      <td>0</td>\n",
       "      <td>0</td>\n",
       "      <td>0</td>\n",
       "      <td>0</td>\n",
       "      <td>0</td>\n",
       "      <td>...</td>\n",
       "      <td>0</td>\n",
       "      <td>0</td>\n",
       "      <td>0</td>\n",
       "      <td>0</td>\n",
       "      <td>0</td>\n",
       "      <td>0</td>\n",
       "      <td>0</td>\n",
       "      <td>0</td>\n",
       "      <td>0</td>\n",
       "      <td>0</td>\n",
       "      <td>0</td>\n",
       "      <td>0</td>\n",
       "      <td>0</td>\n",
       "    </tr>\n",
       "    <tr>\n",
       "      <th>1</th>\n",
       "      <td>0</td>\n",
       "      <td>0</td>\n",
       "      <td>0</td>\n",
       "      <td>0</td>\n",
       "      <td>0</td>\n",
       "      <td>0</td>\n",
       "      <td>0</td>\n",
       "      <td>0</td>\n",
       "      <td>0</td>\n",
       "      <td>0</td>\n",
       "      <td>0</td>\n",
       "      <td>0</td>\n",
       "      <td>0</td>\n",
       "      <td>...</td>\n",
       "      <td>0</td>\n",
       "      <td>0</td>\n",
       "      <td>0</td>\n",
       "      <td>0</td>\n",
       "      <td>0</td>\n",
       "      <td>0</td>\n",
       "      <td>0</td>\n",
       "      <td>0</td>\n",
       "      <td>0</td>\n",
       "      <td>0</td>\n",
       "      <td>0</td>\n",
       "      <td>0</td>\n",
       "      <td>0</td>\n",
       "    </tr>\n",
       "    <tr>\n",
       "      <th>2</th>\n",
       "      <td>0</td>\n",
       "      <td>0</td>\n",
       "      <td>0</td>\n",
       "      <td>0</td>\n",
       "      <td>0</td>\n",
       "      <td>0</td>\n",
       "      <td>0</td>\n",
       "      <td>0</td>\n",
       "      <td>0</td>\n",
       "      <td>0</td>\n",
       "      <td>0</td>\n",
       "      <td>0</td>\n",
       "      <td>0</td>\n",
       "      <td>...</td>\n",
       "      <td>0</td>\n",
       "      <td>0</td>\n",
       "      <td>0</td>\n",
       "      <td>0</td>\n",
       "      <td>0</td>\n",
       "      <td>0</td>\n",
       "      <td>0</td>\n",
       "      <td>0</td>\n",
       "      <td>0</td>\n",
       "      <td>0</td>\n",
       "      <td>0</td>\n",
       "      <td>0</td>\n",
       "      <td>0</td>\n",
       "    </tr>\n",
       "    <tr>\n",
       "      <th>3</th>\n",
       "      <td>0</td>\n",
       "      <td>0</td>\n",
       "      <td>0</td>\n",
       "      <td>0</td>\n",
       "      <td>0</td>\n",
       "      <td>0</td>\n",
       "      <td>0</td>\n",
       "      <td>0</td>\n",
       "      <td>0</td>\n",
       "      <td>0</td>\n",
       "      <td>0</td>\n",
       "      <td>0</td>\n",
       "      <td>0</td>\n",
       "      <td>...</td>\n",
       "      <td>0</td>\n",
       "      <td>0</td>\n",
       "      <td>0</td>\n",
       "      <td>0</td>\n",
       "      <td>0</td>\n",
       "      <td>0</td>\n",
       "      <td>0</td>\n",
       "      <td>0</td>\n",
       "      <td>0</td>\n",
       "      <td>0</td>\n",
       "      <td>0</td>\n",
       "      <td>0</td>\n",
       "      <td>0</td>\n",
       "    </tr>\n",
       "    <tr>\n",
       "      <th>4</th>\n",
       "      <td>0</td>\n",
       "      <td>0</td>\n",
       "      <td>0</td>\n",
       "      <td>0</td>\n",
       "      <td>0</td>\n",
       "      <td>0</td>\n",
       "      <td>0</td>\n",
       "      <td>0</td>\n",
       "      <td>0</td>\n",
       "      <td>0</td>\n",
       "      <td>0</td>\n",
       "      <td>0</td>\n",
       "      <td>0</td>\n",
       "      <td>...</td>\n",
       "      <td>0</td>\n",
       "      <td>0</td>\n",
       "      <td>0</td>\n",
       "      <td>0</td>\n",
       "      <td>0</td>\n",
       "      <td>0</td>\n",
       "      <td>0</td>\n",
       "      <td>0</td>\n",
       "      <td>0</td>\n",
       "      <td>0</td>\n",
       "      <td>0</td>\n",
       "      <td>0</td>\n",
       "      <td>0</td>\n",
       "    </tr>\n",
       "    <tr>\n",
       "      <th>...</th>\n",
       "      <td>...</td>\n",
       "      <td>...</td>\n",
       "      <td>...</td>\n",
       "      <td>...</td>\n",
       "      <td>...</td>\n",
       "      <td>...</td>\n",
       "      <td>...</td>\n",
       "      <td>...</td>\n",
       "      <td>...</td>\n",
       "      <td>...</td>\n",
       "      <td>...</td>\n",
       "      <td>...</td>\n",
       "      <td>...</td>\n",
       "      <td>...</td>\n",
       "      <td>...</td>\n",
       "      <td>...</td>\n",
       "      <td>...</td>\n",
       "      <td>...</td>\n",
       "      <td>...</td>\n",
       "      <td>...</td>\n",
       "      <td>...</td>\n",
       "      <td>...</td>\n",
       "      <td>...</td>\n",
       "      <td>...</td>\n",
       "      <td>...</td>\n",
       "      <td>...</td>\n",
       "      <td>...</td>\n",
       "    </tr>\n",
       "    <tr>\n",
       "      <th>23</th>\n",
       "      <td>0</td>\n",
       "      <td>0</td>\n",
       "      <td>0</td>\n",
       "      <td>0</td>\n",
       "      <td>0</td>\n",
       "      <td>0</td>\n",
       "      <td>0</td>\n",
       "      <td>0</td>\n",
       "      <td>0</td>\n",
       "      <td>0</td>\n",
       "      <td>0</td>\n",
       "      <td>0</td>\n",
       "      <td>0</td>\n",
       "      <td>...</td>\n",
       "      <td>0</td>\n",
       "      <td>0</td>\n",
       "      <td>0</td>\n",
       "      <td>0</td>\n",
       "      <td>0</td>\n",
       "      <td>0</td>\n",
       "      <td>0</td>\n",
       "      <td>0</td>\n",
       "      <td>0</td>\n",
       "      <td>0</td>\n",
       "      <td>0</td>\n",
       "      <td>0</td>\n",
       "      <td>0</td>\n",
       "    </tr>\n",
       "    <tr>\n",
       "      <th>24</th>\n",
       "      <td>0</td>\n",
       "      <td>0</td>\n",
       "      <td>0</td>\n",
       "      <td>0</td>\n",
       "      <td>0</td>\n",
       "      <td>0</td>\n",
       "      <td>0</td>\n",
       "      <td>0</td>\n",
       "      <td>0</td>\n",
       "      <td>0</td>\n",
       "      <td>0</td>\n",
       "      <td>0</td>\n",
       "      <td>0</td>\n",
       "      <td>...</td>\n",
       "      <td>0</td>\n",
       "      <td>0</td>\n",
       "      <td>0</td>\n",
       "      <td>0</td>\n",
       "      <td>0</td>\n",
       "      <td>0</td>\n",
       "      <td>0</td>\n",
       "      <td>0</td>\n",
       "      <td>0</td>\n",
       "      <td>0</td>\n",
       "      <td>0</td>\n",
       "      <td>0</td>\n",
       "      <td>0</td>\n",
       "    </tr>\n",
       "    <tr>\n",
       "      <th>25</th>\n",
       "      <td>0</td>\n",
       "      <td>0</td>\n",
       "      <td>0</td>\n",
       "      <td>0</td>\n",
       "      <td>0</td>\n",
       "      <td>0</td>\n",
       "      <td>0</td>\n",
       "      <td>0</td>\n",
       "      <td>0</td>\n",
       "      <td>0</td>\n",
       "      <td>0</td>\n",
       "      <td>0</td>\n",
       "      <td>0</td>\n",
       "      <td>...</td>\n",
       "      <td>0</td>\n",
       "      <td>0</td>\n",
       "      <td>0</td>\n",
       "      <td>0</td>\n",
       "      <td>0</td>\n",
       "      <td>0</td>\n",
       "      <td>0</td>\n",
       "      <td>0</td>\n",
       "      <td>0</td>\n",
       "      <td>0</td>\n",
       "      <td>0</td>\n",
       "      <td>0</td>\n",
       "      <td>0</td>\n",
       "    </tr>\n",
       "    <tr>\n",
       "      <th>26</th>\n",
       "      <td>0</td>\n",
       "      <td>0</td>\n",
       "      <td>0</td>\n",
       "      <td>0</td>\n",
       "      <td>0</td>\n",
       "      <td>0</td>\n",
       "      <td>0</td>\n",
       "      <td>0</td>\n",
       "      <td>0</td>\n",
       "      <td>0</td>\n",
       "      <td>0</td>\n",
       "      <td>0</td>\n",
       "      <td>0</td>\n",
       "      <td>...</td>\n",
       "      <td>0</td>\n",
       "      <td>0</td>\n",
       "      <td>0</td>\n",
       "      <td>0</td>\n",
       "      <td>0</td>\n",
       "      <td>0</td>\n",
       "      <td>0</td>\n",
       "      <td>0</td>\n",
       "      <td>0</td>\n",
       "      <td>0</td>\n",
       "      <td>0</td>\n",
       "      <td>0</td>\n",
       "      <td>0</td>\n",
       "    </tr>\n",
       "    <tr>\n",
       "      <th>27</th>\n",
       "      <td>0</td>\n",
       "      <td>0</td>\n",
       "      <td>0</td>\n",
       "      <td>0</td>\n",
       "      <td>0</td>\n",
       "      <td>0</td>\n",
       "      <td>0</td>\n",
       "      <td>0</td>\n",
       "      <td>0</td>\n",
       "      <td>0</td>\n",
       "      <td>0</td>\n",
       "      <td>0</td>\n",
       "      <td>0</td>\n",
       "      <td>...</td>\n",
       "      <td>0</td>\n",
       "      <td>0</td>\n",
       "      <td>0</td>\n",
       "      <td>0</td>\n",
       "      <td>0</td>\n",
       "      <td>0</td>\n",
       "      <td>0</td>\n",
       "      <td>0</td>\n",
       "      <td>0</td>\n",
       "      <td>0</td>\n",
       "      <td>0</td>\n",
       "      <td>0</td>\n",
       "      <td>0</td>\n",
       "    </tr>\n",
       "  </tbody>\n",
       "</table>\n",
       "<p>28 rows × 28 columns</p>\n",
       "</div>"
      ],
      "text/plain": [
       "    0   1   2   3   4   5   6   7   8   9   10  11  12  ...  15  16  17  18  \\\n",
       "0    0   0   0   0   0   0   0   0   0   0   0   0   0  ...   0   0   0   0   \n",
       "1    0   0   0   0   0   0   0   0   0   0   0   0   0  ...   0   0   0   0   \n",
       "2    0   0   0   0   0   0   0   0   0   0   0   0   0  ...   0   0   0   0   \n",
       "3    0   0   0   0   0   0   0   0   0   0   0   0   0  ...   0   0   0   0   \n",
       "4    0   0   0   0   0   0   0   0   0   0   0   0   0  ...   0   0   0   0   \n",
       "..  ..  ..  ..  ..  ..  ..  ..  ..  ..  ..  ..  ..  ..  ...  ..  ..  ..  ..   \n",
       "23   0   0   0   0   0   0   0   0   0   0   0   0   0  ...   0   0   0   0   \n",
       "24   0   0   0   0   0   0   0   0   0   0   0   0   0  ...   0   0   0   0   \n",
       "25   0   0   0   0   0   0   0   0   0   0   0   0   0  ...   0   0   0   0   \n",
       "26   0   0   0   0   0   0   0   0   0   0   0   0   0  ...   0   0   0   0   \n",
       "27   0   0   0   0   0   0   0   0   0   0   0   0   0  ...   0   0   0   0   \n",
       "\n",
       "    19  20  21  22  23  24  25  26  27  \n",
       "0    0   0   0   0   0   0   0   0   0  \n",
       "1    0   0   0   0   0   0   0   0   0  \n",
       "2    0   0   0   0   0   0   0   0   0  \n",
       "3    0   0   0   0   0   0   0   0   0  \n",
       "4    0   0   0   0   0   0   0   0   0  \n",
       "..  ..  ..  ..  ..  ..  ..  ..  ..  ..  \n",
       "23   0   0   0   0   0   0   0   0   0  \n",
       "24   0   0   0   0   0   0   0   0   0  \n",
       "25   0   0   0   0   0   0   0   0   0  \n",
       "26   0   0   0   0   0   0   0   0   0  \n",
       "27   0   0   0   0   0   0   0   0   0  \n",
       "\n",
       "[28 rows x 28 columns]"
      ]
     },
     "execution_count": 8,
     "metadata": {},
     "output_type": "execute_result"
    }
   ],
   "source": [
    "# Display as text with the help of Pandas\n",
    "from IPython.display import display\n",
    "import pandas as pd\n",
    "\n",
    "# Choose an image to display, from the training set\n",
    "image_number = 0\n",
    "single = x_train[image_number]\n",
    "\n",
    "# Print which number and the shape of it\n",
    "print(\"Image number: \".format(image_number))\n",
    "print(\"Shape for single: {}\".format(single.shape))\n",
    "\n",
    "# Print the values of each pixel from the image\n",
    "pd.set_option('display.max_columns', 27)\n",
    "pd.set_option('display.max_rows', 27)\n",
    "pd.DataFrame(single.reshape(28,28))"
   ]
  },
  {
   "cell_type": "markdown",
   "metadata": {},
   "source": [
    "#### Display the Apparel"
   ]
  },
  {
   "cell_type": "code",
   "execution_count": 9,
   "metadata": {},
   "outputs": [
    {
     "name": "stdout",
     "output_type": "stream",
     "text": [
      "Image (#0): Which is labeled '7'\n"
     ]
    },
    {
     "data": {
      "image/png": "[encoded data removed]",
      "text/plain": [
       "<Figure size 432x288 with 1 Axes>"
      ]
     },
     "metadata": {
      "needs_background": "light"
     },
     "output_type": "display_data"
    }
   ],
   "source": [
    "# Display as image with the help of matplotlib\n",
    "%matplotlib inline\n",
    "import matplotlib.pyplot as plt\n",
    "import numpy as np\n",
    "\n",
    "# Choose an image from the train set (the same as above)\n",
    "a = x_train[image_number]\n",
    "\n",
    "# convert the image data to a picture\n",
    "plt.imshow(a, cmap='gray', interpolation='nearest')\n",
    "\n",
    "# Print it\n",
    "print(\"Image (#{}): Which is labeled '{}'\".format(image_number,y_train[image_number]))"
   ]
  },
  {
   "cell_type": "markdown",
   "metadata": {},
   "source": [
    "#### Display a random set of images"
   ]
  },
  {
   "cell_type": "code",
   "execution_count": 10,
   "metadata": {},
   "outputs": [
    {
     "data": {
      "text/plain": [
       "<Figure size 432x288 with 0 Axes>"
      ]
     },
     "metadata": {},
     "output_type": "display_data"
    },
    {
     "data": {
      "image/png": "[encoded data removed]",
      "text/plain": [
       "<Figure size 432x432 with 36 Axes>"
      ]
     },
     "metadata": {
      "needs_background": "light"
     },
     "output_type": "display_data"
    }
   ],
   "source": [
    "import random\n",
    "\n",
    "# Choose the images at random \n",
    "ROWS = 6\n",
    "random_indices = random.sample(range(x_train.shape[0]), ROWS*ROWS)\n",
    "\n",
    "# Extract the images and put them into a matrix sample_images\n",
    "sample_images = x_train[random_indices, :]\n",
    "\n",
    "# Clear the current matplotlib figure\n",
    "plt.clf()\n",
    "\n",
    "# Make small axes for the images\n",
    "fig, axes = plt.subplots(ROWS,ROWS, \n",
    "                         figsize=(ROWS,ROWS),\n",
    "                         sharex=True, sharey=True) \n",
    "\n",
    "# Plot the images in a matrix ROWS x ROWS\n",
    "for i in range(ROWS*ROWS):\n",
    "    subplot_row = i//ROWS \n",
    "    subplot_col = i%ROWS\n",
    "\n",
    "    # plot the subaxes'\n",
    "    ax = axes[subplot_row, subplot_col]\n",
    "\n",
    "    # Pick the image in the row\n",
    "    plottable_image = np.reshape(sample_images[i,:], (28,28))\n",
    "    \n",
    "    # Make an image\n",
    "    ax.imshow(plottable_image, cmap='gray_r')\n",
    "    \n",
    "    # Set the numerical bounds of the x-axis\n",
    "    ax.set_xbound([0,28])\n",
    "\n",
    "# plot it to the webpage\n",
    "plt.tight_layout()\n",
    "plt.show()"
   ]
  },
  {
   "cell_type": "markdown",
   "metadata": {},
   "source": [
    "#### Training/Fitting CNN -Fashion"
   ]
  },
  {
   "cell_type": "code",
   "execution_count": 11,
   "metadata": {},
   "outputs": [
    {
     "name": "stdout",
     "output_type": "stream",
     "text": [
      "x_train shape: (51000, 28, 28, 1)\n",
      "Training samples: 51000\n",
      "Test samples: 10000\n"
     ]
    }
   ],
   "source": [
    "# Use Keras that come with Tensorflow and that is not compatible with other Keras backends\n",
    "import tensorflow.keras\n",
    "from tensorflow.keras.datasets import mnist\n",
    "from tensorflow.keras.models import Sequential\n",
    "from tensorflow.keras.layers import Dense, Dropout, Flatten\n",
    "from tensorflow.keras.layers import Conv2D, MaxPooling2D\n",
    "from tensorflow.keras import backend as K\n",
    "\n",
    "# Define the number of classes in MNIST Fashion\n",
    "num_classes = 10\n",
    "\n",
    "# Define the image dimensions\n",
    "img_rows, img_cols = 28, 28\n",
    "\n",
    "# Change the data depending on if the images are using standard format with channels (color \n",
    "#    definition) last, or if it is defined first in the image definition\n",
    "\n",
    "if K.image_data_format() == 'channels_first':\n",
    "    # It is first, reshape the sets\n",
    "    x_train = x_train.reshape(x_train.shape[0], 1, img_rows, img_cols)\n",
    "    x_test = x_test.reshape(x_test.shape[0], 1, img_rows, img_cols)\n",
    "    input_shape = (1, img_rows, img_cols)\n",
    "else:\n",
    "    # It is last, reshape the sets\n",
    "    x_train = x_train.reshape(x_train.shape[0], img_rows, img_cols, 1)\n",
    "    x_test = x_test.reshape(x_test.shape[0], img_rows, img_cols, 1)\n",
    "    input_shape = (img_rows, img_cols, 1)\n",
    "    \n",
    "# Define the image sets explicitly as float32\n",
    "x_train = x_train.astype('float32')\n",
    "x_test = x_test.astype('float32')\n",
    "\n",
    "# Scale the image values to a range 0-1, which will make it work for Gradiend Descend\n",
    "x_train /= 255\n",
    "x_test /= 255\n",
    "print('x_train shape:', x_train.shape)\n",
    "print(\"Training samples: {}\".format(x_train.shape[0]))\n",
    "print(\"Test samples: {}\".format(x_test.shape[0]))\n",
    "\n",
    "# Convert class vectors to binary class matrices\n",
    "#  It converts the labels vector to a matrix/numpy array that has columns equal to the number of categories\n",
    "y_train = tensorflow.keras.utils.to_categorical(y_train, num_classes)\n",
    "y_test = tensorflow.keras.utils.to_categorical(y_test, num_classes)\n",
    "\n",
    "# Start defining the Keras model to use:\n",
    "model = Sequential()\n",
    "# The Keras model will be the simples Keras model for NN networks. It is a single \n",
    "#    stack of layers connected sequentially\n",
    "\n",
    "# Add a convolution layer\n",
    "#   32 output filters\n",
    "#   activation function, relu = Rectified Linear Unit\n",
    "#   the convolution window height and width (used for a matrix operations to get \n",
    "#   more information from the data). It is used to find small specifics of a picture. \n",
    "#   eg an arc or a corner. It is computational expensive.\n",
    "model.add(Conv2D(32, kernel_size=(3, 3),\n",
    "                 activation='relu',\n",
    "                 input_shape=input_shape))\n",
    "\n",
    "# Add another convolution layer (that acts on the first layer)\n",
    "#   64 output filters\n",
    "#   Activation = relu\n",
    "#   the convolution window 3,3\n",
    "model.add(Conv2D(64, (3, 3), activation='relu'))\n",
    "\n",
    "# Define pooling layer. This will subsample (shrink) the images to reduce memory usage and cpu load\n",
    "#   It also limits the risk of overfitting as the number of parameters goes down\n",
    "#   As strides is not defined it is defaulting to the pool_size\n",
    "#   Padding is not defined. Default to ?? (\"valid\" = no padding or \"same\" = padding evenly from input)\n",
    "model.add(MaxPooling2D(pool_size=(2, 2)))\n",
    "\n",
    "# Define Dropout parameter. Dropout temporarliy remove neuron/units in the network during\n",
    "#    a minibatch forward operations or an Epoc. It is done to reduce the risk of overfitting\n",
    "#    This uses a 25% probability dropout rate\n",
    "model.add(Dropout(0.25))\n",
    "\n",
    "# Flatten the input. This prepares the vector for fully connected layers. Usually used in CNN models\n",
    "model.add(Flatten())\n",
    "\n",
    "# Add a hidden Dense layer\n",
    "#   Activation = relu\n",
    "#   Dimension of the output space = 128\n",
    "model.add(Dense(128, activation='relu'))\n",
    "\n",
    "# Define Dropout parameter. Dropout temporarliy remove neuron/units in the network during\n",
    "#    a minibatch forward operations or an Epoc. It is done to reduce the risk of overfitting\n",
    "#    This uses a 25% probability dropout rate\n",
    "model.add(Dropout(0.5))\n",
    "\n",
    "# Add a an output layer. The output space is the number of classes\n",
    "#    Softmax maxe the output as probablity matrix of the different classes\n",
    "model.add(Dense(num_classes, activation='softmax'))\n",
    "\n",
    "# Compile the model\n",
    "model.compile(loss='categorical_crossentropy', optimizer='adam',\n",
    "              metrics=['accuracy'])"
   ]
  },
  {
   "cell_type": "code",
   "execution_count": 12,
   "metadata": {},
   "outputs": [],
   "source": [
    "# Nicely formatted time string\n",
    "def hms_string(sec_elapsed):\n",
    "    h = int(sec_elapsed / (60 * 60))\n",
    "    m = int((sec_elapsed % (60 * 60)) / 60)\n",
    "    s = sec_elapsed % 60\n",
    "    return f\"{h}:{m:>02}:{s:>05.2f}\""
   ]
  },
  {
   "cell_type": "code",
   "execution_count": 16,
   "metadata": {},
   "outputs": [
    {
     "name": "stdout",
     "output_type": "stream",
     "text": [
      "Epoch 1/12\n",
      "359/359 - 35s - loss: 0.2586 - accuracy: 0.9056 - val_loss: 0.2334 - val_accuracy: 0.9143\n",
      "Epoch 2/12\n",
      "359/359 - 35s - loss: 0.2337 - accuracy: 0.9150 - val_loss: 0.2304 - val_accuracy: 0.9157\n",
      "Epoch 3/12\n",
      "359/359 - 35s - loss: 0.2216 - accuracy: 0.9182 - val_loss: 0.2194 - val_accuracy: 0.9204\n",
      "Epoch 4/12\n",
      "359/359 - 35s - loss: 0.2018 - accuracy: 0.9256 - val_loss: 0.2083 - val_accuracy: 0.9241\n",
      "Epoch 5/12\n",
      "359/359 - 35s - loss: 0.1926 - accuracy: 0.9276 - val_loss: 0.2080 - val_accuracy: 0.9241\n",
      "Epoch 6/12\n",
      "359/359 - 35s - loss: 0.1777 - accuracy: 0.9334 - val_loss: 0.2116 - val_accuracy: 0.9275\n",
      "Epoch 7/12\n",
      "359/359 - 35s - loss: 0.1674 - accuracy: 0.9389 - val_loss: 0.2038 - val_accuracy: 0.9271\n",
      "Epoch 8/12\n",
      "359/359 - 35s - loss: 0.1538 - accuracy: 0.9424 - val_loss: 0.2018 - val_accuracy: 0.9288\n",
      "Epoch 9/12\n",
      "359/359 - 35s - loss: 0.1486 - accuracy: 0.9434 - val_loss: 0.2119 - val_accuracy: 0.9296\n",
      "Epoch 10/12\n",
      "359/359 - 35s - loss: 0.1362 - accuracy: 0.9500 - val_loss: 0.2183 - val_accuracy: 0.9257\n",
      "Epoch 11/12\n",
      "359/359 - 35s - loss: 0.1321 - accuracy: 0.9502 - val_loss: 0.2029 - val_accuracy: 0.9306\n",
      "Epoch 12/12\n",
      "359/359 - 35s - loss: 0.1228 - accuracy: 0.9540 - val_loss: 0.2298 - val_accuracy: 0.9271\n",
      "Elapsed time: 0:07:01.78\n"
     ]
    }
   ],
   "source": [
    "import tensorflow as tf\n",
    "import time\n",
    "\n",
    "# Define the number of Epochs to be run. An Epoc is the full training cycle consisting of \n",
    "#   a Forward pass, Measurement of the network's output errors, the computation of all the \n",
    "#   output connectoin contribution to the error by aplying the chain rule, then the same but\n",
    "#   for all the layers. Again with the chain rule, and finally in the Epoc the weights are \n",
    "#   calculated and adjusted using eg Gradiant descend or the hyperbolic tangent function.\n",
    "#epochs = 2\n",
    "epochs = 12\n",
    "\n",
    "# Define the number of samples that will pass through the network at one time. There are papers\n",
    "#   showing that you shouldn't use batch sized largen than 32, and other papers that argue for \n",
    "#   as large batch sizes as the GPU can handle memory wise.\n",
    "#   With a train set of 51 000 images, it will take 399 batches to make 1 Epoc when the \n",
    "#   batch_size is 128\n",
    "batch_size = 128\n",
    "\n",
    "\n",
    "start_time = time.time()\n",
    "\n",
    "history = model.fit(x_train, y_train,\n",
    "          batch_size=batch_size,\n",
    "          epochs=epochs,\n",
    "          verbose=2,\n",
    "          validation_split=0.1)\n",
    "\n",
    "\n",
    "\n",
    "elapsed_time = time.time() - start_time\n",
    "print(\"Elapsed time: {}\".format(hms_string(elapsed_time)))"
   ]
  },
  {
   "cell_type": "markdown",
   "metadata": {},
   "source": [
    "#### Model evaluation"
   ]
  },
  {
   "cell_type": "code",
   "execution_count": 18,
   "metadata": {},
   "outputs": [
    {
     "data": {
      "image/png": "[encoded data removed]",
      "text/plain": [
       "<Figure size 576x360 with 1 Axes>"
      ]
     },
     "metadata": {
      "needs_background": "light"
     },
     "output_type": "display_data"
    }
   ],
   "source": [
    "pd.DataFrame(history.history).plot(figsize=(8,5))\n",
    "plt.grid(True)\n",
    "plt.gca().set_ylim(0,1)\n",
    "plt.show()"
   ]
  },
  {
   "cell_type": "code",
   "execution_count": 19,
   "metadata": {},
   "outputs": [
    {
     "name": "stdout",
     "output_type": "stream",
     "text": [
      "Test loss: 0.256626158952713\n",
      "Test accuracy: 0.916700005531311\n",
      "Elapsed time: 0:00:01.72\n"
     ]
    }
   ],
   "source": [
    "start_time = time.time()\n",
    "\n",
    "score = model.evaluate(x_test, y_test, verbose=0)\n",
    "print('Test loss: {}'.format(score[0]))\n",
    "print('Test accuracy: {}'.format(score[1]))\n",
    "\n",
    "elapsed_time = time.time() - start_time\n",
    "print(\"Elapsed time: {}\".format(hms_string(elapsed_time)))"
   ]
  },
  {
   "cell_type": "markdown",
   "metadata": {},
   "source": [
    "#### MODEL A1: Different parameters - Change of batch_size 32"
   ]
  },
  {
   "cell_type": "code",
   "execution_count": 21,
   "metadata": {},
   "outputs": [],
   "source": [
    "batch_size2 = 32\n",
    "\n",
    "# \n",
    "model2 = Sequential()\n",
    "model2.add(Conv2D(32, kernel_size=(3, 3),\n",
    "                 activation='relu',\n",
    "                 input_shape=input_shape))\n",
    "model2.add(Conv2D(64, (3, 3), activation='relu'))\n",
    "model2.add(MaxPooling2D(pool_size=(2, 2)))\n",
    "model2.add(Dropout(0.25))\n",
    "model2.add(Flatten())\n",
    "model2.add(Dense(128, activation='relu'))\n",
    "model2.add(Dropout(0.5))\n",
    "model2.add(Dense(num_classes, activation='softmax'))\n",
    "model2.compile(loss='categorical_crossentropy', optimizer='adam',\n",
    "              metrics=['accuracy'])"
   ]
  },
  {
   "cell_type": "code",
   "execution_count": 22,
   "metadata": {},
   "outputs": [
    {
     "name": "stdout",
     "output_type": "stream",
     "text": [
      "Epoch 1/12\n",
      "1435/1435 - 54s - loss: 0.5108 - accuracy: 0.8188 - val_loss: 0.2915 - val_accuracy: 0.8929\n",
      "Epoch 2/12\n",
      "1435/1435 - 54s - loss: 0.3372 - accuracy: 0.8775 - val_loss: 0.2632 - val_accuracy: 0.9053\n",
      "Epoch 3/12\n",
      "1435/1435 - 53s - loss: 0.2886 - accuracy: 0.8949 - val_loss: 0.2448 - val_accuracy: 0.9094\n",
      "Epoch 4/12\n",
      "1435/1435 - 53s - loss: 0.2578 - accuracy: 0.9071 - val_loss: 0.2284 - val_accuracy: 0.9159\n",
      "Epoch 5/12\n",
      "1435/1435 - 53s - loss: 0.2321 - accuracy: 0.9148 - val_loss: 0.2235 - val_accuracy: 0.9208\n",
      "Epoch 6/12\n",
      "1435/1435 - 53s - loss: 0.2127 - accuracy: 0.9224 - val_loss: 0.2196 - val_accuracy: 0.9214\n",
      "Epoch 7/12\n",
      "1435/1435 - 54s - loss: 0.1954 - accuracy: 0.9265 - val_loss: 0.2100 - val_accuracy: 0.9249\n",
      "Epoch 8/12\n",
      "1435/1435 - 54s - loss: 0.1821 - accuracy: 0.9330 - val_loss: 0.2267 - val_accuracy: 0.9253\n",
      "Epoch 9/12\n",
      "1435/1435 - 54s - loss: 0.1701 - accuracy: 0.9363 - val_loss: 0.2413 - val_accuracy: 0.9194\n",
      "Epoch 10/12\n",
      "1435/1435 - 54s - loss: 0.1621 - accuracy: 0.9395 - val_loss: 0.2328 - val_accuracy: 0.9222\n",
      "Epoch 11/12\n",
      "1435/1435 - 53s - loss: 0.1492 - accuracy: 0.9427 - val_loss: 0.2192 - val_accuracy: 0.9265\n",
      "Epoch 12/12\n",
      "1435/1435 - 53s - loss: 0.1402 - accuracy: 0.9460 - val_loss: 0.2262 - val_accuracy: 0.9249\n",
      "Elapsed time: 0:10:43.02\n"
     ]
    }
   ],
   "source": [
    "start_time = time.time()\n",
    "history2 = model2.fit(x_train, y_train,\n",
    "          batch_size=batch_size2,\n",
    "          epochs=epochs,\n",
    "          verbose=2,\n",
    "          validation_split=0.1)\n",
    "\n",
    "\n",
    "\n",
    "elapsed_time = time.time() - start_time\n",
    "print(\"Elapsed time: {}\".format(hms_string(elapsed_time)))"
   ]
  },
  {
   "cell_type": "code",
   "execution_count": 23,
   "metadata": {},
   "outputs": [
    {
     "data": {
      "image/png": "[encoded data removed]",
      "text/plain": [
       "<Figure size 576x360 with 1 Axes>"
      ]
     },
     "metadata": {
      "needs_background": "light"
     },
     "output_type": "display_data"
    }
   ],
   "source": [
    "pd.DataFrame(history2.history).plot(figsize=(8,5))\n",
    "plt.grid(True)\n",
    "plt.gca().set_ylim(0,1)\n",
    "plt.show()"
   ]
  },
  {
   "cell_type": "code",
   "execution_count": 24,
   "metadata": {},
   "outputs": [
    {
     "name": "stdout",
     "output_type": "stream",
     "text": [
      "Test loss: 0.24496199190616608\n",
      "Test accuracy: 0.9215999841690063\n",
      "Elapsed time: 0:00:01.73\n"
     ]
    }
   ],
   "source": [
    "start_time = time.time()\n",
    "\n",
    "score = model2.evaluate(x_test, y_test, verbose=0)\n",
    "print('Test loss: {}'.format(score[0]))\n",
    "print('Test accuracy: {}'.format(score[1]))\n",
    "\n",
    "elapsed_time = time.time() - start_time\n",
    "print(\"Elapsed time: {}\".format(hms_string(elapsed_time)))"
   ]
  },
  {
   "cell_type": "markdown",
   "metadata": {},
   "source": [
    "#### MODEL A2: Different parameters - Change of batch_size 512"
   ]
  },
  {
   "cell_type": "code",
   "execution_count": 26,
   "metadata": {},
   "outputs": [],
   "source": [
    "batch_size3 = 512\n",
    "\n",
    "# \n",
    "model3 = Sequential()\n",
    "model3.add(Conv2D(32, kernel_size=(3, 3),\n",
    "                 activation='relu',\n",
    "                 input_shape=input_shape))\n",
    "model3.add(Conv2D(64, (3, 3), activation='relu'))\n",
    "model3.add(MaxPooling2D(pool_size=(2, 2)))\n",
    "model3.add(Dropout(0.25))\n",
    "model3.add(Flatten())\n",
    "model3.add(Dense(128, activation='relu'))\n",
    "model3.add(Dropout(0.5))\n",
    "model3.add(Dense(num_classes, activation='softmax'))\n",
    "model3.compile(loss='categorical_crossentropy', optimizer='adam',\n",
    "              metrics=['accuracy'])"
   ]
  },
  {
   "cell_type": "code",
   "execution_count": 27,
   "metadata": {},
   "outputs": [
    {
     "name": "stdout",
     "output_type": "stream",
     "text": [
      "Epoch 1/12\n",
      "90/90 - 33s - loss: 0.7427 - accuracy: 0.7337 - val_loss: 0.4040 - val_accuracy: 0.8531\n",
      "Epoch 2/12\n",
      "90/90 - 32s - loss: 0.4342 - accuracy: 0.8473 - val_loss: 0.3128 - val_accuracy: 0.8859\n",
      "Epoch 3/12\n",
      "90/90 - 32s - loss: 0.3651 - accuracy: 0.8711 - val_loss: 0.2832 - val_accuracy: 0.8957\n",
      "Epoch 4/12\n",
      "90/90 - 33s - loss: 0.3305 - accuracy: 0.8824 - val_loss: 0.2653 - val_accuracy: 0.9033\n",
      "Epoch 5/12\n",
      "90/90 - 32s - loss: 0.3058 - accuracy: 0.8900 - val_loss: 0.2514 - val_accuracy: 0.9086\n",
      "Epoch 6/12\n",
      "90/90 - 32s - loss: 0.2844 - accuracy: 0.8992 - val_loss: 0.2455 - val_accuracy: 0.9102\n",
      "Epoch 7/12\n",
      "90/90 - 31s - loss: 0.2659 - accuracy: 0.9041 - val_loss: 0.2310 - val_accuracy: 0.9147\n",
      "Epoch 8/12\n",
      "90/90 - 30s - loss: 0.2559 - accuracy: 0.9074 - val_loss: 0.2290 - val_accuracy: 0.9151\n",
      "Epoch 9/12\n",
      "90/90 - 30s - loss: 0.2411 - accuracy: 0.9123 - val_loss: 0.2186 - val_accuracy: 0.9204\n",
      "Epoch 10/12\n",
      "90/90 - 30s - loss: 0.2311 - accuracy: 0.9162 - val_loss: 0.2177 - val_accuracy: 0.9210\n",
      "Epoch 11/12\n",
      "90/90 - 31s - loss: 0.2169 - accuracy: 0.9212 - val_loss: 0.2147 - val_accuracy: 0.9204\n",
      "Epoch 12/12\n",
      "90/90 - 32s - loss: 0.2082 - accuracy: 0.9249 - val_loss: 0.2145 - val_accuracy: 0.9218\n",
      "Elapsed time: 0:06:25.13\n"
     ]
    }
   ],
   "source": [
    "start_time = time.time()\n",
    "history3 = model3.fit(x_train, y_train,\n",
    "          batch_size=batch_size3,\n",
    "          epochs=epochs,\n",
    "          verbose=2,\n",
    "          validation_split=0.1)\n",
    "\n",
    "\n",
    "\n",
    "elapsed_time = time.time() - start_time\n",
    "print(\"Elapsed time: {}\".format(hms_string(elapsed_time)))"
   ]
  },
  {
   "cell_type": "code",
   "execution_count": 28,
   "metadata": {},
   "outputs": [
    {
     "data": {
      "image/png": "[encoded data removed]",
      "text/plain": [
       "<Figure size 576x360 with 1 Axes>"
      ]
     },
     "metadata": {
      "needs_background": "light"
     },
     "output_type": "display_data"
    }
   ],
   "source": [
    "pd.DataFrame(history3.history).plot(figsize=(8,5))\n",
    "plt.grid(True)\n",
    "plt.gca().set_ylim(0,1)\n",
    "plt.show()"
   ]
  },
  {
   "cell_type": "code",
   "execution_count": 29,
   "metadata": {},
   "outputs": [
    {
     "name": "stdout",
     "output_type": "stream",
     "text": [
      "Test loss: 0.2366991937160492\n",
      "Test accuracy: 0.9142000079154968\n",
      "Elapsed time: 0:00:01.72\n"
     ]
    }
   ],
   "source": [
    "start_time = time.time()\n",
    "\n",
    "score = model3.evaluate(x_test, y_test, verbose=0)\n",
    "print('Test loss: {}'.format(score[0]))\n",
    "print('Test accuracy: {}'.format(score[1]))\n",
    "\n",
    "elapsed_time = time.time() - start_time\n",
    "print(\"Elapsed time: {}\".format(hms_string(elapsed_time)))"
   ]
  },
  {
   "cell_type": "markdown",
   "metadata": {},
   "source": [
    "#### MODEL B1: Different parameters - Change of strides (2,2)"
   ]
  },
  {
   "cell_type": "code",
   "execution_count": 30,
   "metadata": {},
   "outputs": [],
   "source": [
    "# \n",
    "model4 = Sequential()\n",
    "model4.add(Conv2D(32, kernel_size=(3, 3),\n",
    "                 activation='relu',\n",
    "                 input_shape=input_shape))\n",
    "model4.add(Conv2D(64, (3, 3), activation='relu'))\n",
    "model4.add(MaxPooling2D(pool_size=(2, 2), strides=(2,2)))\n",
    "model4.add(Dropout(0.25))\n",
    "model4.add(Flatten())\n",
    "model4.add(Dense(128, activation='relu'))\n",
    "model4.add(Dropout(0.5))\n",
    "model4.add(Dense(num_classes, activation='softmax'))\n",
    "model4.compile(loss='categorical_crossentropy', optimizer='adam',\n",
    "              metrics=['accuracy'])"
   ]
  },
  {
   "cell_type": "code",
   "execution_count": 31,
   "metadata": {},
   "outputs": [
    {
     "name": "stdout",
     "output_type": "stream",
     "text": [
      "Epoch 1/12\n",
      "359/359 - 36s - loss: 0.5727 - accuracy: 0.7990 - val_loss: 0.3261 - val_accuracy: 0.8835\n",
      "Epoch 2/12\n",
      "359/359 - 36s - loss: 0.3677 - accuracy: 0.8682 - val_loss: 0.2784 - val_accuracy: 0.8945\n",
      "Epoch 3/12\n",
      "359/359 - 36s - loss: 0.3187 - accuracy: 0.8842 - val_loss: 0.2559 - val_accuracy: 0.9039\n",
      "Epoch 4/12\n",
      "359/359 - 36s - loss: 0.2857 - accuracy: 0.8956 - val_loss: 0.2389 - val_accuracy: 0.9149\n",
      "Epoch 5/12\n",
      "359/359 - 36s - loss: 0.2608 - accuracy: 0.9057 - val_loss: 0.2298 - val_accuracy: 0.9171\n",
      "Epoch 6/12\n",
      "359/359 - 36s - loss: 0.2385 - accuracy: 0.9137 - val_loss: 0.2263 - val_accuracy: 0.9171\n",
      "Epoch 7/12\n",
      "359/359 - 36s - loss: 0.2204 - accuracy: 0.9182 - val_loss: 0.2200 - val_accuracy: 0.9192\n",
      "Epoch 8/12\n",
      "359/359 - 36s - loss: 0.2061 - accuracy: 0.9234 - val_loss: 0.2186 - val_accuracy: 0.9204\n",
      "Epoch 9/12\n",
      "359/359 - 36s - loss: 0.1925 - accuracy: 0.9296 - val_loss: 0.2184 - val_accuracy: 0.9206\n",
      "Epoch 10/12\n",
      "359/359 - 36s - loss: 0.1809 - accuracy: 0.9337 - val_loss: 0.2121 - val_accuracy: 0.9235\n",
      "Epoch 11/12\n",
      "359/359 - 36s - loss: 0.1688 - accuracy: 0.9373 - val_loss: 0.2081 - val_accuracy: 0.9288\n",
      "Epoch 12/12\n",
      "359/359 - 36s - loss: 0.1602 - accuracy: 0.9395 - val_loss: 0.2081 - val_accuracy: 0.9273\n",
      "Elapsed time: 0:07:12.03\n"
     ]
    }
   ],
   "source": [
    "start_time = time.time()\n",
    "history4 = model4.fit(x_train, y_train,\n",
    "          batch_size=batch_size,\n",
    "          epochs=epochs,\n",
    "          verbose=2,\n",
    "          validation_split=0.1)\n",
    "\n",
    "\n",
    "\n",
    "elapsed_time = time.time() - start_time\n",
    "print(\"Elapsed time: {}\".format(hms_string(elapsed_time)))"
   ]
  },
  {
   "cell_type": "code",
   "execution_count": 32,
   "metadata": {},
   "outputs": [
    {
     "data": {
      "image/png": "[encoded data removed]",
      "text/plain": [
       "<Figure size 576x360 with 1 Axes>"
      ]
     },
     "metadata": {
      "needs_background": "light"
     },
     "output_type": "display_data"
    }
   ],
   "source": [
    "pd.DataFrame(history4.history).plot(figsize=(8,5))\n",
    "plt.grid(True)\n",
    "plt.gca().set_ylim(0,1)\n",
    "plt.show()"
   ]
  },
  {
   "cell_type": "code",
   "execution_count": 33,
   "metadata": {},
   "outputs": [
    {
     "name": "stdout",
     "output_type": "stream",
     "text": [
      "Test loss: 0.22433337569236755\n",
      "Test accuracy: 0.9228000044822693\n",
      "Elapsed time: 0:00:01.68\n"
     ]
    }
   ],
   "source": [
    "start_time = time.time()\n",
    "\n",
    "score = model4.evaluate(x_test, y_test, verbose=0)\n",
    "print('Test loss: {}'.format(score[0]))\n",
    "print('Test accuracy: {}'.format(score[1]))\n",
    "\n",
    "elapsed_time = time.time() - start_time\n",
    "print(\"Elapsed time: {}\".format(hms_string(elapsed_time)))"
   ]
  },
  {
   "cell_type": "markdown",
   "metadata": {},
   "source": [
    "#### MODEL B2: Different parameters - Change of strides (4,4)"
   ]
  },
  {
   "cell_type": "code",
   "execution_count": 34,
   "metadata": {},
   "outputs": [],
   "source": [
    "# \n",
    "model5 = Sequential()\n",
    "model5.add(Conv2D(32, kernel_size=(3, 3),\n",
    "                 activation='relu',\n",
    "                 input_shape=input_shape))\n",
    "model5.add(Conv2D(64, (3, 3), activation='relu'))\n",
    "model5.add(MaxPooling2D(pool_size=(2, 2), strides=(4,4)))\n",
    "model5.add(Dropout(0.25))\n",
    "model5.add(Flatten())\n",
    "model5.add(Dense(128, activation='relu'))\n",
    "model5.add(Dropout(0.5))\n",
    "model5.add(Dense(num_classes, activation='softmax'))\n",
    "model5.compile(loss='categorical_crossentropy', optimizer='adam',\n",
    "              metrics=['accuracy'])"
   ]
  },
  {
   "cell_type": "code",
   "execution_count": 35,
   "metadata": {},
   "outputs": [
    {
     "name": "stdout",
     "output_type": "stream",
     "text": [
      "Epoch 1/12\n",
      "359/359 - 30s - loss: 0.6472 - accuracy: 0.7669 - val_loss: 0.3859 - val_accuracy: 0.8576\n",
      "Epoch 2/12\n",
      "359/359 - 30s - loss: 0.4336 - accuracy: 0.8441 - val_loss: 0.3194 - val_accuracy: 0.8833\n",
      "Epoch 3/12\n",
      "359/359 - 30s - loss: 0.3793 - accuracy: 0.8624 - val_loss: 0.2949 - val_accuracy: 0.8875\n",
      "Epoch 4/12\n",
      "359/359 - 30s - loss: 0.3469 - accuracy: 0.8746 - val_loss: 0.2750 - val_accuracy: 0.9006\n",
      "Epoch 5/12\n",
      "359/359 - 30s - loss: 0.3288 - accuracy: 0.8815 - val_loss: 0.2629 - val_accuracy: 0.9029\n",
      "Epoch 6/12\n",
      "359/359 - 30s - loss: 0.3100 - accuracy: 0.8875 - val_loss: 0.2546 - val_accuracy: 0.9057\n",
      "Epoch 7/12\n",
      "359/359 - 30s - loss: 0.2949 - accuracy: 0.8931 - val_loss: 0.2567 - val_accuracy: 0.9027\n",
      "Epoch 8/12\n",
      "359/359 - 30s - loss: 0.2797 - accuracy: 0.8978 - val_loss: 0.2375 - val_accuracy: 0.9100\n",
      "Epoch 9/12\n",
      "359/359 - 30s - loss: 0.2647 - accuracy: 0.9014 - val_loss: 0.2445 - val_accuracy: 0.9031\n",
      "Epoch 10/12\n",
      "359/359 - 30s - loss: 0.2547 - accuracy: 0.9056 - val_loss: 0.2428 - val_accuracy: 0.9063\n",
      "Epoch 11/12\n",
      "359/359 - 30s - loss: 0.2464 - accuracy: 0.9080 - val_loss: 0.2373 - val_accuracy: 0.9102\n",
      "Epoch 12/12\n",
      "359/359 - 30s - loss: 0.2362 - accuracy: 0.9134 - val_loss: 0.2306 - val_accuracy: 0.9120\n",
      "Elapsed time: 0:06:01.99\n"
     ]
    }
   ],
   "source": [
    "start_time = time.time()\n",
    "history5 = model5.fit(x_train, y_train,\n",
    "          batch_size=batch_size,\n",
    "          epochs=epochs,\n",
    "          verbose=2,\n",
    "          validation_split=0.1)\n",
    "\n",
    "\n",
    "\n",
    "elapsed_time = time.time() - start_time\n",
    "print(\"Elapsed time: {}\".format(hms_string(elapsed_time)))"
   ]
  },
  {
   "cell_type": "code",
   "execution_count": 36,
   "metadata": {},
   "outputs": [
    {
     "data": {
      "image/png": "[encoded data removed]",
      "text/plain": [
       "<Figure size 576x360 with 1 Axes>"
      ]
     },
     "metadata": {
      "needs_background": "light"
     },
     "output_type": "display_data"
    }
   ],
   "source": [
    "pd.DataFrame(history5.history).plot(figsize=(8,5))\n",
    "plt.grid(True)\n",
    "plt.gca().set_ylim(0,1)\n",
    "plt.show()"
   ]
  },
  {
   "cell_type": "code",
   "execution_count": 37,
   "metadata": {},
   "outputs": [
    {
     "name": "stdout",
     "output_type": "stream",
     "text": [
      "Test loss: 0.26243045926094055\n",
      "Test accuracy: 0.9075999855995178\n",
      "Elapsed time: 0:00:01.48\n"
     ]
    }
   ],
   "source": [
    "start_time = time.time()\n",
    "\n",
    "score = model5.evaluate(x_test, y_test, verbose=0)\n",
    "print('Test loss: {}'.format(score[0]))\n",
    "print('Test accuracy: {}'.format(score[1]))\n",
    "\n",
    "elapsed_time = time.time() - start_time\n",
    "print(\"Elapsed time: {}\".format(hms_string(elapsed_time)))"
   ]
  },
  {
   "cell_type": "markdown",
   "metadata": {},
   "source": [
    "#### MODEL C1: Different parameters - Extra hidden layer with 64 output (and dropout)"
   ]
  },
  {
   "cell_type": "code",
   "execution_count": 38,
   "metadata": {},
   "outputs": [],
   "source": [
    "# \n",
    "model6 = Sequential()\n",
    "model6.add(Conv2D(32, kernel_size=(3, 3),\n",
    "                 activation='relu',\n",
    "                 input_shape=input_shape))\n",
    "model6.add(Conv2D(64, (3, 3), activation='relu'))\n",
    "model6.add(MaxPooling2D(pool_size=(2, 2)))\n",
    "model6.add(Dropout(0.25))\n",
    "model6.add(Flatten())\n",
    "model6.add(Dense(128, activation='relu'))\n",
    "model6.add(Dropout(0.5))\n",
    "\n",
    "# Extra layer\n",
    "model6.add(Dense(64, activation='relu'))\n",
    "model6.add(Dropout(0.5))\n",
    "\n",
    "model6.add(Dense(num_classes, activation='softmax'))\n",
    "model6.compile(loss='categorical_crossentropy', optimizer='adam',\n",
    "              metrics=['accuracy'])"
   ]
  },
  {
   "cell_type": "code",
   "execution_count": 39,
   "metadata": {},
   "outputs": [
    {
     "name": "stdout",
     "output_type": "stream",
     "text": [
      "Epoch 1/12\n",
      "359/359 - 36s - loss: 0.8159 - accuracy: 0.7132 - val_loss: 0.3982 - val_accuracy: 0.8559\n",
      "Epoch 2/12\n",
      "359/359 - 36s - loss: 0.4742 - accuracy: 0.8386 - val_loss: 0.3111 - val_accuracy: 0.8857\n",
      "Epoch 3/12\n",
      "359/359 - 36s - loss: 0.3995 - accuracy: 0.8635 - val_loss: 0.2828 - val_accuracy: 0.8969\n",
      "Epoch 4/12\n",
      "359/359 - 36s - loss: 0.3577 - accuracy: 0.8793 - val_loss: 0.2562 - val_accuracy: 0.9078\n",
      "Epoch 5/12\n",
      "359/359 - 36s - loss: 0.3323 - accuracy: 0.8877 - val_loss: 0.2513 - val_accuracy: 0.9100\n",
      "Epoch 6/12\n",
      "359/359 - 36s - loss: 0.3033 - accuracy: 0.8973 - val_loss: 0.2500 - val_accuracy: 0.9088\n",
      "Epoch 7/12\n",
      "359/359 - 36s - loss: 0.2825 - accuracy: 0.9032 - val_loss: 0.2425 - val_accuracy: 0.9112\n",
      "Epoch 8/12\n",
      "359/359 - 35s - loss: 0.2703 - accuracy: 0.9069 - val_loss: 0.2270 - val_accuracy: 0.9204\n",
      "Epoch 9/12\n",
      "359/359 - 35s - loss: 0.2544 - accuracy: 0.9112 - val_loss: 0.2215 - val_accuracy: 0.9196\n",
      "Epoch 10/12\n",
      "359/359 - 36s - loss: 0.2406 - accuracy: 0.9178 - val_loss: 0.2230 - val_accuracy: 0.9192\n",
      "Epoch 11/12\n",
      "359/359 - 36s - loss: 0.2335 - accuracy: 0.9193 - val_loss: 0.2275 - val_accuracy: 0.9210\n",
      "Epoch 12/12\n",
      "359/359 - 36s - loss: 0.2229 - accuracy: 0.9227 - val_loss: 0.2208 - val_accuracy: 0.9255\n",
      "Elapsed time: 0:07:11.39\n"
     ]
    }
   ],
   "source": [
    "start_time = time.time()\n",
    "history6 = model6.fit(x_train, y_train,\n",
    "          batch_size=batch_size,\n",
    "          epochs=epochs,\n",
    "          verbose=2,\n",
    "          validation_split=0.1)\n",
    "\n",
    "\n",
    "\n",
    "elapsed_time = time.time() - start_time\n",
    "print(\"Elapsed time: {}\".format(hms_string(elapsed_time)))"
   ]
  },
  {
   "cell_type": "code",
   "execution_count": 40,
   "metadata": {},
   "outputs": [
    {
     "data": {
      "image/png": "[encoded data removed]",
      "text/plain": [
       "<Figure size 576x360 with 1 Axes>"
      ]
     },
     "metadata": {
      "needs_background": "light"
     },
     "output_type": "display_data"
    }
   ],
   "source": [
    "pd.DataFrame(history6.history).plot(figsize=(8,5))\n",
    "plt.grid(True)\n",
    "plt.gca().set_ylim(0,1)\n",
    "plt.show()"
   ]
  },
  {
   "cell_type": "code",
   "execution_count": 41,
   "metadata": {},
   "outputs": [
    {
     "name": "stdout",
     "output_type": "stream",
     "text": [
      "Test loss: 0.2432556450366974\n",
      "Test accuracy: 0.9186999797821045\n",
      "Elapsed time: 0:00:01.72\n"
     ]
    }
   ],
   "source": [
    "start_time = time.time()\n",
    "\n",
    "score = model6.evaluate(x_test, y_test, verbose=0)\n",
    "print('Test loss: {}'.format(score[0]))\n",
    "print('Test accuracy: {}'.format(score[1]))\n",
    "\n",
    "elapsed_time = time.time() - start_time\n",
    "print(\"Elapsed time: {}\".format(hms_string(elapsed_time)))"
   ]
  },
  {
   "cell_type": "markdown",
   "metadata": {},
   "source": [
    "#### MODEL D1: Different parameters - Extra Convolution layer"
   ]
  },
  {
   "cell_type": "code",
   "execution_count": 43,
   "metadata": {},
   "outputs": [],
   "source": [
    "# \n",
    "model7 = Sequential()\n",
    "model7.add(Conv2D(32, kernel_size=(3, 3),\n",
    "                 activation='relu',\n",
    "                 input_shape=input_shape))\n",
    "model7.add(Conv2D(64, (3, 3), activation='relu'))\n",
    "model7.add(MaxPooling2D(pool_size=(2, 2)))\n",
    "\n",
    "# Extra conolution layer\n",
    "model7.add(Conv2D(256, (3, 3), activation='relu'))\n",
    "model7.add(Conv2D(256, (3, 3), activation='relu'))\n",
    "model7.add(MaxPooling2D(pool_size=(2, 2)))\n",
    "\n",
    "\n",
    "model7.add(Dropout(0.25))\n",
    "model7.add(Flatten())\n",
    "model7.add(Dense(128, activation='relu'))\n",
    "model7.add(Dropout(0.5))\n",
    "model7.add(Dense(num_classes, activation='softmax'))\n",
    "model7.compile(loss='categorical_crossentropy', optimizer='adam',\n",
    "              metrics=['accuracy'])"
   ]
  },
  {
   "cell_type": "code",
   "execution_count": 44,
   "metadata": {},
   "outputs": [
    {
     "name": "stdout",
     "output_type": "stream",
     "text": [
      "Epoch 1/12\n",
      "359/359 - 81s - loss: 0.6733 - accuracy: 0.7558 - val_loss: 0.3787 - val_accuracy: 0.8637\n",
      "Epoch 2/12\n",
      "359/359 - 82s - loss: 0.4085 - accuracy: 0.8530 - val_loss: 0.2962 - val_accuracy: 0.8867\n",
      "Epoch 3/12\n",
      "359/359 - 82s - loss: 0.3334 - accuracy: 0.8812 - val_loss: 0.2621 - val_accuracy: 0.9065\n",
      "Epoch 4/12\n",
      "359/359 - 82s - loss: 0.2962 - accuracy: 0.8930 - val_loss: 0.2535 - val_accuracy: 0.9092\n",
      "Epoch 5/12\n",
      "359/359 - 81s - loss: 0.2686 - accuracy: 0.9034 - val_loss: 0.2329 - val_accuracy: 0.9127\n",
      "Epoch 6/12\n",
      "359/359 - 82s - loss: 0.2476 - accuracy: 0.9107 - val_loss: 0.2250 - val_accuracy: 0.9171\n",
      "Epoch 7/12\n",
      "359/359 - 81s - loss: 0.2258 - accuracy: 0.9184 - val_loss: 0.2089 - val_accuracy: 0.9200\n",
      "Epoch 8/12\n",
      "359/359 - 81s - loss: 0.2076 - accuracy: 0.9244 - val_loss: 0.2150 - val_accuracy: 0.9220\n",
      "Epoch 9/12\n",
      "359/359 - 82s - loss: 0.1964 - accuracy: 0.9278 - val_loss: 0.2074 - val_accuracy: 0.9241\n",
      "Epoch 10/12\n",
      "359/359 - 82s - loss: 0.1749 - accuracy: 0.9350 - val_loss: 0.2076 - val_accuracy: 0.9282\n",
      "Epoch 11/12\n",
      "359/359 - 81s - loss: 0.1611 - accuracy: 0.9403 - val_loss: 0.2103 - val_accuracy: 0.9239\n",
      "Epoch 12/12\n",
      "359/359 - 82s - loss: 0.1529 - accuracy: 0.9441 - val_loss: 0.2133 - val_accuracy: 0.9251\n",
      "Elapsed time: 0:16:22.43\n"
     ]
    }
   ],
   "source": [
    "start_time = time.time()\n",
    "history7 = model7.fit(x_train, y_train,\n",
    "          batch_size=batch_size,\n",
    "          epochs=epochs,\n",
    "          verbose=2,\n",
    "          validation_split=0.1)\n",
    "\n",
    "\n",
    "\n",
    "elapsed_time = time.time() - start_time\n",
    "print(\"Elapsed time: {}\".format(hms_string(elapsed_time)))"
   ]
  },
  {
   "cell_type": "code",
   "execution_count": 45,
   "metadata": {},
   "outputs": [
    {
     "data": {
      "image/png": "[encoded data removed]",
      "text/plain": [
       "<Figure size 576x360 with 1 Axes>"
      ]
     },
     "metadata": {
      "needs_background": "light"
     },
     "output_type": "display_data"
    }
   ],
   "source": [
    "pd.DataFrame(history7.history).plot(figsize=(8,5))\n",
    "plt.grid(True)\n",
    "plt.gca().set_ylim(0,1)\n",
    "plt.show()"
   ]
  },
  {
   "cell_type": "code",
   "execution_count": 47,
   "metadata": {},
   "outputs": [
    {
     "name": "stdout",
     "output_type": "stream",
     "text": [
      "Test loss: 0.231080561876297\n",
      "Test accuracy: 0.9199000000953674\n",
      "Elapsed time: 0:00:04.39\n"
     ]
    }
   ],
   "source": [
    "start_time = time.time()\n",
    "\n",
    "score = model7.evaluate(x_test, y_test, verbose=0)\n",
    "print('Test loss: {}'.format(score[0]))\n",
    "print('Test accuracy: {}'.format(score[1]))\n",
    "\n",
    "elapsed_time = time.time() - start_time\n",
    "print(\"Elapsed time: {}\".format(hms_string(elapsed_time)))"
   ]
  },
  {
   "cell_type": "markdown",
   "metadata": {},
   "source": [
    "###### Discussion"
   ]
  },
  {
   "cell_type": "markdown",
   "metadata": {},
   "source": [
    "Main model:<br>\n",
    "    Test loss: 0.256626158952713 = ca 0,257<br>\n",
    "    Test accuracy: 0.916700005531311 = ca 0,917<br>"
   ]
  },
  {
   "cell_type": "markdown",
   "metadata": {},
   "source": [
    "A1 - Batch_size = 32 instead of 128<br>\n",
    "    Test loss: 0.24496199190616608 = ca 0,245<br>\n",
    "    Test accuracy: 0.9215999841690063 =  ca 0,921<br>\n",
    "A2 - Batch_size = 32 instead of 512<br>\n",
    "    Test loss: 0.2366991937160492 = ca 0,237<br>\n",
    "    Test accuracy: 0.9142000079154968 = ca 0,914<br>\n",
    "\n",
    "Batch_size = 128 gives a much higher loss in the beginning of the Epochs compared to the main model.<br>\n",
    "The model will end up in the same region when it comes to test loss and test accuracy compared to the main model.<br>\n",
    "The test and validation accuracy harmonizes after 4 epochs<br>\n",
    "\n",
    "Batch_size = 512 gives even higher loss in the beginning. Also the Validation accuracy is lower. The model will end up in the same region when it comes to test loss and test accuracy compared to the main model.<br>\n",
    "The test and validation accuracy harmonizes after 6 epochs<br>\n",
    "\n",
    "Main model took 7:01 minutes to run<br>\n",
    "A1 took 10:43 minutes<br>\n",
    "A2 took 06:25 minutes<br>\n",
    "Larger batch sizes was expected to go faster on a GPU, however, this has been run in the CPU. <br>"
   ]
  },
  {
   "cell_type": "markdown",
   "metadata": {},
   "source": [
    "Beck to batch size 32<br>\n",
    "\n",
    "B1 - Stride 2,2<br>\n",
    "    Test loss: 0.22433337569236755 = ca 0,224<br>\n",
    "    Test accuracy: 0.9228000044822693 = ca 0,923<br>\n",
    "B2 - Stride 4,4<br>\n",
    "    Test loss: 0.26243045926094055 = ca 0,262<br>\n",
    "    Test accuracy: 0.9075999855995178 = ca 0,908<br>\n",
    "    \n",
    "A stride of 2,2 gives a better result. Higher Accuracy and lower test loss, a stride of 4,4 however gives worse performance (0,262 and 0,908 resp)\n"
   ]
  },
  {
   "cell_type": "markdown",
   "metadata": {},
   "source": [
    "C1 - Extra hidden layer with 64 output (and dropout)<br>\n",
    "    Test loss: 0.2432556450366974 = ca 0,243<br>\n",
    "    Test accuracy: 0.9186999797821045 = ca 0,919<br>\n",
    "    \n",
    "Adding an extra hidden layer gives approximate the same accuracy, but slightly better loss. "
   ]
  },
  {
   "cell_type": "markdown",
   "metadata": {},
   "source": [
    "D1 -  Extra Convolution layer<br>\n",
    "    Test loss: 0.231080561876297 = ca 0,231<br>\n",
    "    Test accuracy: 0.9199000000953674 = ca 0,920<br>\n",
    "\n",
    "Adding an extra convolution layer made the loss slightly better, but no big difference to the accuracy"
   ]
  },
  {
   "cell_type": "markdown",
   "metadata": {},
   "source": [
    "## VG Part"
   ]
  },
  {
   "cell_type": "code",
   "execution_count": 48,
   "metadata": {},
   "outputs": [],
   "source": [
    "#epochs = 2\n",
    "epochs = 12\n"
   ]
  },
  {
   "cell_type": "markdown",
   "metadata": {},
   "source": [
    "#### Run 1"
   ]
  },
  {
   "cell_type": "code",
   "execution_count": 52,
   "metadata": {},
   "outputs": [],
   "source": [
    "batch_size2 = 32\n",
    "\n",
    "# \n",
    "model8a = Sequential()\n",
    "model8a.add(Conv2D(32, kernel_size=(3, 3),\n",
    "                 activation='relu',\n",
    "                 input_shape=input_shape))\n",
    "model8a.add(Conv2D(64, (3, 3), activation='relu'))\n",
    "model8a.add(MaxPooling2D(pool_size=(2, 2)))\n",
    "model8a.add(Dropout(0.25))\n",
    "model8a.add(Flatten())\n",
    "model8a.add(Dense(128, activation='relu'))\n",
    "model8a.add(Dropout(0.5))\n",
    "model8a.add(Dense(num_classes, activation='softmax'))\n",
    "model8a.compile(loss='categorical_crossentropy', optimizer='adam',\n",
    "              metrics=['accuracy'])"
   ]
  },
  {
   "cell_type": "code",
   "execution_count": 53,
   "metadata": {},
   "outputs": [
    {
     "name": "stdout",
     "output_type": "stream",
     "text": [
      "Epoch 1/12\n",
      "359/359 - 36s - loss: 0.5782 - accuracy: 0.7969 - val_loss: 0.3317 - val_accuracy: 0.8812\n",
      "Epoch 2/12\n",
      "359/359 - 34s - loss: 0.3773 - accuracy: 0.8648 - val_loss: 0.2805 - val_accuracy: 0.8971\n",
      "Epoch 3/12\n",
      "359/359 - 34s - loss: 0.3217 - accuracy: 0.8842 - val_loss: 0.2580 - val_accuracy: 0.9069\n",
      "Epoch 4/12\n",
      "359/359 - 34s - loss: 0.2839 - accuracy: 0.8985 - val_loss: 0.2437 - val_accuracy: 0.9116\n",
      "Epoch 5/12\n",
      "359/359 - 34s - loss: 0.2629 - accuracy: 0.9051 - val_loss: 0.2317 - val_accuracy: 0.9141\n",
      "Epoch 6/12\n",
      "359/359 - 34s - loss: 0.2422 - accuracy: 0.9113 - val_loss: 0.2350 - val_accuracy: 0.9116\n",
      "Epoch 7/12\n",
      "359/359 - 34s - loss: 0.2198 - accuracy: 0.9177 - val_loss: 0.2199 - val_accuracy: 0.9212\n",
      "Epoch 8/12\n",
      "359/359 - 34s - loss: 0.2069 - accuracy: 0.9232 - val_loss: 0.2063 - val_accuracy: 0.9239\n",
      "Epoch 9/12\n",
      "359/359 - 34s - loss: 0.1918 - accuracy: 0.9285 - val_loss: 0.2078 - val_accuracy: 0.9216\n",
      "Epoch 10/12\n",
      "359/359 - 34s - loss: 0.1825 - accuracy: 0.9323 - val_loss: 0.2047 - val_accuracy: 0.9259\n",
      "Epoch 11/12\n",
      "359/359 - 34s - loss: 0.1665 - accuracy: 0.9369 - val_loss: 0.2008 - val_accuracy: 0.9235\n",
      "Epoch 12/12\n",
      "359/359 - 34s - loss: 0.1604 - accuracy: 0.9392 - val_loss: 0.1985 - val_accuracy: 0.9276\n",
      "Elapsed time: 0:06:50.10\n"
     ]
    }
   ],
   "source": [
    "start_time = time.time()\n",
    "history8a = model8a.fit(x_train, y_train,\n",
    "          batch_size=batch_size,\n",
    "          epochs=epochs,\n",
    "          verbose=2,\n",
    "          validation_split=0.1)\n",
    "\n",
    "\n",
    "\n",
    "elapsed_time = time.time() - start_time\n",
    "print(\"Elapsed time: {}\".format(hms_string(elapsed_time)))"
   ]
  },
  {
   "cell_type": "code",
   "execution_count": 54,
   "metadata": {},
   "outputs": [
    {
     "data": {
      "image/png": "[encoded data removed]",
      "text/plain": [
       "<Figure size 576x360 with 1 Axes>"
      ]
     },
     "metadata": {
      "needs_background": "light"
     },
     "output_type": "display_data"
    }
   ],
   "source": [
    "pd.DataFrame(history8a.history).plot(figsize=(8,5))\n",
    "plt.grid(True)\n",
    "plt.gca().set_ylim(0,1)\n",
    "plt.show()"
   ]
  },
  {
   "cell_type": "code",
   "execution_count": 55,
   "metadata": {},
   "outputs": [
    {
     "name": "stdout",
     "output_type": "stream",
     "text": [
      "Test loss: 0.2311367690563202\n",
      "Test accuracy: 0.9208999872207642\n",
      "Elapsed time: 0:00:01.63\n"
     ]
    }
   ],
   "source": [
    "start_time = time.time()\n",
    "\n",
    "score = model8a.evaluate(x_test, y_test, verbose=0)\n",
    "print('Test loss: {}'.format(score[0]))\n",
    "print('Test accuracy: {}'.format(score[1]))\n",
    "\n",
    "elapsed_time = time.time() - start_time\n",
    "print(\"Elapsed time: {}\".format(hms_string(elapsed_time)))"
   ]
  },
  {
   "cell_type": "markdown",
   "metadata": {},
   "source": [
    "#### Run 2"
   ]
  },
  {
   "cell_type": "code",
   "execution_count": 56,
   "metadata": {},
   "outputs": [
    {
     "name": "stdout",
     "output_type": "stream",
     "text": [
      "Epoch 1/12\n",
      "359/359 - 34s - loss: 0.1477 - accuracy: 0.9443 - val_loss: 0.2153 - val_accuracy: 0.9265\n",
      "Epoch 2/12\n",
      "359/359 - 34s - loss: 0.1370 - accuracy: 0.9485 - val_loss: 0.2163 - val_accuracy: 0.9251\n",
      "Epoch 3/12\n",
      "359/359 - 34s - loss: 0.1275 - accuracy: 0.9524 - val_loss: 0.2164 - val_accuracy: 0.9261\n",
      "Epoch 4/12\n",
      "359/359 - 34s - loss: 0.1232 - accuracy: 0.9525 - val_loss: 0.2031 - val_accuracy: 0.9300\n",
      "Epoch 5/12\n",
      "359/359 - 34s - loss: 0.1164 - accuracy: 0.9556 - val_loss: 0.2197 - val_accuracy: 0.9239\n",
      "Epoch 6/12\n",
      "359/359 - 34s - loss: 0.1119 - accuracy: 0.9572 - val_loss: 0.2341 - val_accuracy: 0.9237\n",
      "Epoch 7/12\n",
      "359/359 - 34s - loss: 0.1040 - accuracy: 0.9603 - val_loss: 0.2237 - val_accuracy: 0.9292\n",
      "Epoch 8/12\n",
      "359/359 - 34s - loss: 0.1013 - accuracy: 0.9617 - val_loss: 0.2388 - val_accuracy: 0.9261\n",
      "Epoch 9/12\n",
      "359/359 - 34s - loss: 0.0954 - accuracy: 0.9637 - val_loss: 0.2309 - val_accuracy: 0.9294\n",
      "Epoch 10/12\n",
      "359/359 - 34s - loss: 0.0966 - accuracy: 0.9635 - val_loss: 0.2284 - val_accuracy: 0.9282\n",
      "Epoch 11/12\n",
      "359/359 - 34s - loss: 0.0905 - accuracy: 0.9652 - val_loss: 0.2197 - val_accuracy: 0.9282\n",
      "Epoch 12/12\n",
      "359/359 - 34s - loss: 0.0844 - accuracy: 0.9675 - val_loss: 0.2503 - val_accuracy: 0.9271\n",
      "Elapsed time: 0:06:46.81\n"
     ]
    }
   ],
   "source": [
    "start_time = time.time()\n",
    "history9 = model8a.fit(x_train, y_train,\n",
    "          batch_size=batch_size,\n",
    "          epochs=epochs,\n",
    "          verbose=2,\n",
    "          validation_split=0.1)\n",
    "\n",
    "\n",
    "\n",
    "elapsed_time = time.time() - start_time\n",
    "print(\"Elapsed time: {}\".format(hms_string(elapsed_time)))"
   ]
  },
  {
   "cell_type": "code",
   "execution_count": 57,
   "metadata": {},
   "outputs": [
    {
     "data": {
      "image/png": "[encoded data removed]",
      "text/plain": [
       "<Figure size 576x360 with 1 Axes>"
      ]
     },
     "metadata": {
      "needs_background": "light"
     },
     "output_type": "display_data"
    }
   ],
   "source": [
    "pd.DataFrame(history9.history).plot(figsize=(8,5))\n",
    "plt.grid(True)\n",
    "plt.gca().set_ylim(0,1)\n",
    "plt.show()"
   ]
  },
  {
   "cell_type": "code",
   "execution_count": 58,
   "metadata": {},
   "outputs": [
    {
     "name": "stdout",
     "output_type": "stream",
     "text": [
      "Test loss: 0.2872166931629181\n",
      "Test accuracy: 0.9233999848365784\n",
      "Elapsed time: 0:00:01.64\n"
     ]
    }
   ],
   "source": [
    "start_time = time.time()\n",
    "\n",
    "score = model8a.evaluate(x_test, y_test, verbose=0)\n",
    "print('Test loss: {}'.format(score[0]))\n",
    "print('Test accuracy: {}'.format(score[1]))\n",
    "\n",
    "elapsed_time = time.time() - start_time\n",
    "print(\"Elapsed time: {}\".format(hms_string(elapsed_time)))"
   ]
  },
  {
   "cell_type": "markdown",
   "metadata": {},
   "source": [
    "#### Run 3"
   ]
  },
  {
   "cell_type": "code",
   "execution_count": 59,
   "metadata": {},
   "outputs": [
    {
     "name": "stdout",
     "output_type": "stream",
     "text": [
      "Epoch 1/12\n",
      "359/359 - 34s - loss: 0.0882 - accuracy: 0.9673 - val_loss: 0.2382 - val_accuracy: 0.9333\n",
      "Epoch 2/12\n",
      "359/359 - 34s - loss: 0.0805 - accuracy: 0.9685 - val_loss: 0.2431 - val_accuracy: 0.9271\n",
      "Epoch 3/12\n",
      "359/359 - 34s - loss: 0.0772 - accuracy: 0.9708 - val_loss: 0.2495 - val_accuracy: 0.9288\n",
      "Epoch 4/12\n",
      "359/359 - 34s - loss: 0.0748 - accuracy: 0.9710 - val_loss: 0.2585 - val_accuracy: 0.9282\n",
      "Epoch 5/12\n",
      "359/359 - 34s - loss: 0.0747 - accuracy: 0.9710 - val_loss: 0.2612 - val_accuracy: 0.9265\n",
      "Epoch 6/12\n",
      "359/359 - 34s - loss: 0.0736 - accuracy: 0.9722 - val_loss: 0.2678 - val_accuracy: 0.9286\n",
      "Epoch 7/12\n",
      "359/359 - 34s - loss: 0.0703 - accuracy: 0.9728 - val_loss: 0.2455 - val_accuracy: 0.9322\n",
      "Epoch 8/12\n",
      "359/359 - 34s - loss: 0.0711 - accuracy: 0.9717 - val_loss: 0.2580 - val_accuracy: 0.9312\n",
      "Epoch 9/12\n",
      "359/359 - 34s - loss: 0.0671 - accuracy: 0.9748 - val_loss: 0.2837 - val_accuracy: 0.9284\n",
      "Epoch 10/12\n",
      "359/359 - 34s - loss: 0.0640 - accuracy: 0.9747 - val_loss: 0.2705 - val_accuracy: 0.9276\n",
      "Epoch 11/12\n",
      "359/359 - 34s - loss: 0.0661 - accuracy: 0.9745 - val_loss: 0.2759 - val_accuracy: 0.9286\n",
      "Epoch 12/12\n",
      "359/359 - 34s - loss: 0.0614 - accuracy: 0.9765 - val_loss: 0.2732 - val_accuracy: 0.9290\n",
      "Elapsed time: 0:06:46.90\n"
     ]
    }
   ],
   "source": [
    "start_time = time.time()\n",
    "history10 = model8a.fit(x_train, y_train,\n",
    "          batch_size=batch_size,\n",
    "          epochs=epochs,\n",
    "          verbose=2,\n",
    "          validation_split=0.1)\n",
    "\n",
    "\n",
    "\n",
    "elapsed_time = time.time() - start_time\n",
    "print(\"Elapsed time: {}\".format(hms_string(elapsed_time)))"
   ]
  },
  {
   "cell_type": "code",
   "execution_count": 60,
   "metadata": {},
   "outputs": [
    {
     "data": {
      "image/png": "[encoded data removed]",
      "text/plain": [
       "<Figure size 576x360 with 1 Axes>"
      ]
     },
     "metadata": {
      "needs_background": "light"
     },
     "output_type": "display_data"
    }
   ],
   "source": [
    "pd.DataFrame(history10.history).plot(figsize=(8,5))\n",
    "plt.grid(True)\n",
    "plt.gca().set_ylim(0,1)\n",
    "plt.show()"
   ]
  },
  {
   "cell_type": "code",
   "execution_count": 61,
   "metadata": {},
   "outputs": [
    {
     "name": "stdout",
     "output_type": "stream",
     "text": [
      "Test loss: 0.30686551332473755\n",
      "Test accuracy: 0.9279999732971191\n",
      "Elapsed time: 0:00:01.63\n"
     ]
    }
   ],
   "source": [
    "start_time = time.time()\n",
    "\n",
    "score = model8a.evaluate(x_test, y_test, verbose=0)\n",
    "print('Test loss: {}'.format(score[0]))\n",
    "print('Test accuracy: {}'.format(score[1]))\n",
    "\n",
    "elapsed_time = time.time() - start_time\n",
    "print(\"Elapsed time: {}\".format(hms_string(elapsed_time)))"
   ]
  },
  {
   "cell_type": "markdown",
   "metadata": {},
   "source": [
    "##### Comparison"
   ]
  },
  {
   "cell_type": "markdown",
   "metadata": {},
   "source": [
    "Doing the same training 3 times in a row with Keras, Keras continue where it left of. \n",
    "That means that when en Epoc in this example is 12, it does 12x3 = 36. \n",
    "\n",
    "The variance between test and validation in both accuracy and loss goes up the more Epocs is done after apporx 9 epoch. The validation loss is significantly higher than the test loss. This is an indication of a big problem. As the validation loss goes up as the test loss continues to go down, and this is a sign of overfitting."
   ]
  },
  {
   "cell_type": "markdown",
   "metadata": {},
   "source": [
    "#### Optimizer 1 - Nadam"
   ]
  },
  {
   "cell_type": "code",
   "execution_count": 70,
   "metadata": {},
   "outputs": [],
   "source": [
    "#epochs = 2\n",
    "epochs = 12"
   ]
  },
  {
   "cell_type": "code",
   "execution_count": 71,
   "metadata": {},
   "outputs": [],
   "source": [
    "batch_size2 = 32\n",
    "\n",
    "# \n",
    "model11 = Sequential()\n",
    "model11.add(Conv2D(32, kernel_size=(3, 3),\n",
    "                 activation='relu',\n",
    "                 input_shape=input_shape))\n",
    "model11.add(Conv2D(64, (3, 3), activation='relu'))\n",
    "model11.add(MaxPooling2D(pool_size=(2, 2)))\n",
    "model11.add(Dropout(0.25))\n",
    "model11.add(Flatten())\n",
    "model11.add(Dense(128, activation='relu'))\n",
    "model11.add(Dropout(0.5))\n",
    "model11.add(Dense(num_classes, activation='softmax'))\n",
    "model11.compile(loss='categorical_crossentropy', optimizer='nadam',\n",
    "              metrics=['accuracy'])"
   ]
  },
  {
   "cell_type": "code",
   "execution_count": 72,
   "metadata": {},
   "outputs": [
    {
     "name": "stdout",
     "output_type": "stream",
     "text": [
      "Epoch 1/12\n",
      "359/359 - 39s - loss: 0.5634 - accuracy: 0.8028 - val_loss: 0.3196 - val_accuracy: 0.8863\n",
      "Epoch 2/12\n",
      "359/359 - 38s - loss: 0.3609 - accuracy: 0.8723 - val_loss: 0.2726 - val_accuracy: 0.9025\n",
      "Epoch 3/12\n",
      "359/359 - 38s - loss: 0.3120 - accuracy: 0.8894 - val_loss: 0.2604 - val_accuracy: 0.9033\n",
      "Epoch 4/12\n",
      "359/359 - 38s - loss: 0.2715 - accuracy: 0.9018 - val_loss: 0.2626 - val_accuracy: 0.9016\n",
      "Epoch 5/12\n",
      "359/359 - 38s - loss: 0.2521 - accuracy: 0.9082 - val_loss: 0.2265 - val_accuracy: 0.9133\n",
      "Epoch 6/12\n",
      "359/359 - 39s - loss: 0.2324 - accuracy: 0.9154 - val_loss: 0.2193 - val_accuracy: 0.9186\n",
      "Epoch 7/12\n",
      "359/359 - 39s - loss: 0.2126 - accuracy: 0.9216 - val_loss: 0.2057 - val_accuracy: 0.9253\n",
      "Epoch 8/12\n",
      "359/359 - 39s - loss: 0.1976 - accuracy: 0.9272 - val_loss: 0.2068 - val_accuracy: 0.9233\n",
      "Epoch 9/12\n",
      "359/359 - 39s - loss: 0.1851 - accuracy: 0.9329 - val_loss: 0.2007 - val_accuracy: 0.9271\n",
      "Epoch 10/12\n",
      "359/359 - 39s - loss: 0.1718 - accuracy: 0.9358 - val_loss: 0.2089 - val_accuracy: 0.9265\n",
      "Epoch 11/12\n",
      "359/359 - 39s - loss: 0.1593 - accuracy: 0.9401 - val_loss: 0.2063 - val_accuracy: 0.9290\n",
      "Epoch 12/12\n",
      "359/359 - 40s - loss: 0.1491 - accuracy: 0.9456 - val_loss: 0.2105 - val_accuracy: 0.9280\n",
      "Elapsed time: 0:07:46.29\n"
     ]
    }
   ],
   "source": [
    "start_time = time.time()\n",
    "history11 = model11.fit(x_train, y_train,\n",
    "          batch_size=batch_size,\n",
    "          epochs=epochs,\n",
    "          verbose=2,\n",
    "          validation_split=0.1)\n",
    "\n",
    "\n",
    "\n",
    "elapsed_time = time.time() - start_time\n",
    "print(\"Elapsed time: {}\".format(hms_string(elapsed_time)))"
   ]
  },
  {
   "cell_type": "code",
   "execution_count": 73,
   "metadata": {},
   "outputs": [
    {
     "data": {
      "image/png": "[encoded data removed]",
      "text/plain": [
       "<Figure size 576x360 with 1 Axes>"
      ]
     },
     "metadata": {
      "needs_background": "light"
     },
     "output_type": "display_data"
    }
   ],
   "source": [
    "pd.DataFrame(history11.history).plot(figsize=(8,5))\n",
    "plt.grid(True)\n",
    "plt.gca().set_ylim(0,1)\n",
    "plt.show()"
   ]
  },
  {
   "cell_type": "code",
   "execution_count": 74,
   "metadata": {},
   "outputs": [
    {
     "name": "stdout",
     "output_type": "stream",
     "text": [
      "Test loss: 0.22938014566898346\n",
      "Test accuracy: 0.9192000031471252\n",
      "Elapsed time: 0:00:01.72\n"
     ]
    }
   ],
   "source": [
    "start_time = time.time()\n",
    "\n",
    "score = model11.evaluate(x_test, y_test, verbose=0)\n",
    "print('Test loss: {}'.format(score[0]))\n",
    "print('Test accuracy: {}'.format(score[1]))\n",
    "\n",
    "elapsed_time = time.time() - start_time\n",
    "print(\"Elapsed time: {}\".format(hms_string(elapsed_time)))"
   ]
  },
  {
   "cell_type": "markdown",
   "metadata": {},
   "source": [
    "#### Optimizer 2 - Ftrl"
   ]
  },
  {
   "cell_type": "code",
   "execution_count": 77,
   "metadata": {},
   "outputs": [],
   "source": [
    "batch_size2 = 32\n",
    "epochs = 12\n",
    "# \n",
    "model12 = Sequential()\n",
    "model12.add(Conv2D(32, kernel_size=(3, 3),\n",
    "                 activation='relu',\n",
    "                 input_shape=input_shape))\n",
    "model12.add(Conv2D(64, (3, 3), activation='relu'))\n",
    "model12.add(MaxPooling2D(pool_size=(2, 2)))\n",
    "model12.add(Dropout(0.25))\n",
    "model12.add(Flatten())\n",
    "model12.add(Dense(128, activation='relu'))\n",
    "model12.add(Dropout(0.5))\n",
    "model12.add(Dense(num_classes, activation='softmax'))\n",
    "model12.compile(loss='categorical_crossentropy', optimizer='ftrl',\n",
    "              metrics=['accuracy'])"
   ]
  },
  {
   "cell_type": "code",
   "execution_count": 78,
   "metadata": {},
   "outputs": [
    {
     "name": "stdout",
     "output_type": "stream",
     "text": [
      "Epoch 1/12\n",
      "359/359 - 36s - loss: 2.3026 - accuracy: 0.0973 - val_loss: 2.3026 - val_accuracy: 0.0975\n",
      "Epoch 2/12\n",
      "359/359 - 36s - loss: 2.3026 - accuracy: 0.0994 - val_loss: 2.3026 - val_accuracy: 0.0975\n",
      "Epoch 3/12\n",
      "359/359 - 36s - loss: 2.3026 - accuracy: 0.1002 - val_loss: 2.3026 - val_accuracy: 0.0975\n",
      "Epoch 4/12\n",
      "359/359 - 36s - loss: 2.3026 - accuracy: 0.1011 - val_loss: 2.3026 - val_accuracy: 0.0975\n",
      "Epoch 5/12\n",
      "359/359 - 36s - loss: 2.3026 - accuracy: 0.1011 - val_loss: 2.3026 - val_accuracy: 0.0975\n",
      "Epoch 6/12\n",
      "359/359 - 36s - loss: 2.3026 - accuracy: 0.1011 - val_loss: 2.3026 - val_accuracy: 0.0975\n",
      "Epoch 7/12\n",
      "359/359 - 36s - loss: 2.3026 - accuracy: 0.1011 - val_loss: 2.3026 - val_accuracy: 0.0975\n",
      "Epoch 8/12\n",
      "359/359 - 36s - loss: 2.3026 - accuracy: 0.1011 - val_loss: 2.3026 - val_accuracy: 0.0975\n",
      "Epoch 9/12\n",
      "359/359 - 36s - loss: 2.3026 - accuracy: 0.1011 - val_loss: 2.3026 - val_accuracy: 0.0975\n",
      "Epoch 10/12\n",
      "359/359 - 36s - loss: 2.3026 - accuracy: 0.1011 - val_loss: 2.3026 - val_accuracy: 0.0975\n",
      "Epoch 11/12\n",
      "359/359 - 36s - loss: 2.3026 - accuracy: 0.1011 - val_loss: 2.3026 - val_accuracy: 0.0975\n",
      "Epoch 12/12\n",
      "359/359 - 36s - loss: 2.3026 - accuracy: 0.1011 - val_loss: 2.3026 - val_accuracy: 0.0975\n",
      "Elapsed time: 0:07:14.83\n"
     ]
    }
   ],
   "source": [
    "start_time = time.time()\n",
    "history12 = model12.fit(x_train, y_train,\n",
    "          batch_size=batch_size,\n",
    "          epochs=epochs,\n",
    "          verbose=2,\n",
    "          validation_split=0.1)\n",
    "\n",
    "\n",
    "\n",
    "elapsed_time = time.time() - start_time\n",
    "print(\"Elapsed time: {}\".format(hms_string(elapsed_time)))"
   ]
  },
  {
   "cell_type": "code",
   "execution_count": 79,
   "metadata": {},
   "outputs": [
    {
     "data": {
      "image/png": "[encoded data removed]",
      "text/plain": [
       "<Figure size 576x360 with 1 Axes>"
      ]
     },
     "metadata": {
      "needs_background": "light"
     },
     "output_type": "display_data"
    }
   ],
   "source": [
    "pd.DataFrame(history12.history).plot(figsize=(8,5))\n",
    "plt.grid(True)\n",
    "plt.gca().set_ylim(0,1)\n",
    "plt.show()"
   ]
  },
  {
   "cell_type": "code",
   "execution_count": 80,
   "metadata": {},
   "outputs": [
    {
     "name": "stdout",
     "output_type": "stream",
     "text": [
      "Test loss: 2.3025894165039062\n",
      "Test accuracy: 0.10000000149011612\n",
      "Elapsed time: 0:00:01.71\n"
     ]
    }
   ],
   "source": [
    "start_time = time.time()\n",
    "\n",
    "score = model12.evaluate(x_test, y_test, verbose=0)\n",
    "print('Test loss: {}'.format(score[0]))\n",
    "print('Test accuracy: {}'.format(score[1]))\n",
    "\n",
    "elapsed_time = time.time() - start_time\n",
    "print(\"Elapsed time: {}\".format(hms_string(elapsed_time)))"
   ]
  },
  {
   "cell_type": "markdown",
   "metadata": {},
   "source": [
    "###### Optimizer comparison"
   ]
  },
  {
   "cell_type": "markdown",
   "metadata": {},
   "source": [
    "The Main model has adam as optimizer. The test results are repeated here for the batch_size 32:\n",
    "    Test loss: 0.256626158952713 = ca 0,257\n",
    "    Test accuracy: 0.916700005531311 = ca 0,917\n",
    "\n",
    "The second run comparing optimizers were run with the nadam. Nadam is adam with Nesterov momentum acceleration gradient method, which often makes it converge faster. \n",
    "Looking at the loss/accuracy curve, the Nadam should probably be stopped after 8 or 9 epochs to avoid overfitting. On the other hand the main model should probably be stopped after 4 or 5 epochs. \n",
    "    Test loss: 0.22938014566898346 = ca 0,229\n",
    "    Test accuracy: 0.9192000031471252 = ca 0,919\n",
    "\n",
    "The second optimization that is compered here is the ftrl. It is choosen because reading about it, it was made for on-line learning. It would be interesting to se if it was gonna preforme or not.\n",
    "Looking at the run, it failed totally.\n",
    "    Test loss: 2.3025894165039062 = ca 2,30\n",
    "    Test accuracy: 0.10000000149011612 = ca 0,10\n",
    "\n",
    "The Ftrl optimizer is obviously not fit for image recognition\n",
    "\n"
   ]
  },
  {
   "cell_type": "markdown",
   "metadata": {},
   "source": [
    "#### Missclassification"
   ]
  },
  {
   "cell_type": "code",
   "execution_count": 84,
   "metadata": {},
   "outputs": [
    {
     "name": "stdout",
     "output_type": "stream",
     "text": [
      "Accuracy: 0.9090909090909091\n"
     ]
    }
   ],
   "source": [
    "from sklearn import metrics\n",
    "\n",
    "small_x = x_test[1:100]\n",
    "small_y = y_test[1:100]\n",
    "small_y2 = np.argmax(small_y,axis=1)\n",
    "pred = model.predict(small_x)\n",
    "pred = np.argmax(pred,axis=1)\n",
    "scoreX = metrics.accuracy_score(small_y2, pred)\n",
    "print('Accuracy: {}'.format(scoreX))\n"
   ]
  },
  {
   "cell_type": "code",
   "execution_count": 116,
   "metadata": {},
   "outputs": [
    {
     "name": "stdout",
     "output_type": "stream",
     "text": [
      "2\n",
      "2\n",
      "Classification Report\n",
      "              precision    recall  f1-score   support\n",
      "\n",
      "           0       0.86      0.89      0.87      1000\n",
      "           1       1.00      0.98      0.99      1000\n",
      "           2       0.89      0.84      0.86      1000\n",
      "           3       0.94      0.88      0.91      1000\n",
      "           4       0.81      0.94      0.87      1000\n",
      "           5       0.98      0.99      0.98      1000\n",
      "           6       0.79      0.74      0.76      1000\n",
      "           7       0.95      0.98      0.96      1000\n",
      "           8       0.98      0.99      0.98      1000\n",
      "           9       0.99      0.95      0.97      1000\n",
      "\n",
      "    accuracy                           0.92     10000\n",
      "   macro avg       0.92      0.92      0.92     10000\n",
      "weighted avg       0.92      0.92      0.92     10000\n",
      "\n"
     ]
    }
   ],
   "source": [
    "from sklearn.metrics import classification_report\n",
    "\n",
    "rounded_predictions = model.predict_classes(x_test, batch_size=128, verbose=0)\n",
    "rounded_predictions[1]\n",
    "print(rounded_predictions[1])\n",
    "\n",
    "rounded_labels=np.argmax(y_test, axis=1)\n",
    "print(rounded_labels[1])\n",
    "\n",
    "print('Classification Report')\n",
    "target_names = ['0','1','2','3','4','5','6','7','8','9']\n",
    "print(classification_report(rounded_labels, rounded_predictions, target_names=target_names))\n"
   ]
  },
  {
   "cell_type": "code",
   "execution_count": 117,
   "metadata": {},
   "outputs": [
    {
     "name": "stdout",
     "output_type": "stream",
     "text": [
      "Confusion Matrix\n",
      "[[885   0  14   9   3   1  82   0   6   0]\n",
      " [  3 981   0   8   1   0   5   0   2   0]\n",
      " [ 19   0 837   6  93   0  44   0   1   0]\n",
      " [ 18   2  14 881  41   0  42   0   2   0]\n",
      " [  1   0  18  14 939   0  27   0   1   0]\n",
      " [  0   0   0   0   0 988   0   9   0   3]\n",
      " [103   0  50  15  88   0 737   0   7   0]\n",
      " [  0   0   0   0   0  11   0 978   0  11]\n",
      " [  3   0   3   1   1   1   1   3 987   0]\n",
      " [  1   0   0   0   0   7   0  38   0 954]]\n"
     ]
    }
   ],
   "source": [
    "print('Confusion Matrix')\n",
    "cm = confusion_matrix(rounded_labels, rounded_predictions)\n",
    "print(cm)\n",
    "\n"
   ]
  },
  {
   "cell_type": "markdown",
   "metadata": {},
   "source": [
    "#### Comment on missclassification\n",
    "Label number 6 have the worst performance. It has the highest number of miss-predicted items, the precision is the lowest and the recall is the lowest\n",
    "\n",
    "Next after is label number 4 and 0.\n",
    "\n",
    "Label 6 are Shirts, 4 are coats and 0 are t-shirts. They are rather alike compared to a sandal, bag or ankle boot.\n"
   ]
  },
  {
   "cell_type": "code",
   "execution_count": 129,
   "metadata": {},
   "outputs": [
    {
     "name": "stdout",
     "output_type": "stream",
     "text": [
      "18\n",
      "Image (#18): Which is labeled '6'\n"
     ]
    },
    {
     "data": {
      "image/png": "[encoded data removed]",
      "text/plain": [
       "<Figure size 432x288 with 1 Axes>"
      ]
     },
     "metadata": {
      "needs_background": "light"
     },
     "output_type": "display_data"
    }
   ],
   "source": [
    "count = 0\n",
    "labelnr = 6\n",
    "while count <= 1000 and y_train0[count]!=labelnr  :\n",
    "    count = count + 1\n",
    "print (count)\n",
    "a = x_train0[count]\n",
    "plt.imshow(a, cmap='gray', interpolation='nearest')\n",
    "print(\"Image (#{}): Which is labeled '{}'\".format(count,y_train0[count]))"
   ]
  },
  {
   "cell_type": "code",
   "execution_count": 130,
   "metadata": {},
   "outputs": [
    {
     "name": "stdout",
     "output_type": "stream",
     "text": [
      "19\n",
      "Image (#19): Which is labeled '4'\n"
     ]
    },
    {
     "data": {
      "image/png": "[encoded data removed]",
      "text/plain": [
       "<Figure size 432x288 with 1 Axes>"
      ]
     },
     "metadata": {
      "needs_background": "light"
     },
     "output_type": "display_data"
    }
   ],
   "source": [
    "count = 0\n",
    "labelnr = 4\n",
    "while count <= 1000 and y_train0[count]!=labelnr  :\n",
    "    count = count + 1\n",
    "print (count)\n",
    "b = x_train0[count]\n",
    "plt.imshow(b, cmap='gray', interpolation='nearest')\n",
    "print(\"Image (#{}): Which is labeled '{}'\".format(count,y_train0[count]))"
   ]
  },
  {
   "cell_type": "code",
   "execution_count": 131,
   "metadata": {},
   "outputs": [
    {
     "name": "stdout",
     "output_type": "stream",
     "text": [
      "1\n",
      "Image (#1): Which is labeled '0'\n"
     ]
    },
    {
     "data": {
      "image/png": "[encoded data removed]",
      "text/plain": [
       "<Figure size 432x288 with 1 Axes>"
      ]
     },
     "metadata": {
      "needs_background": "light"
     },
     "output_type": "display_data"
    }
   ],
   "source": [
    "count = 0\n",
    "labelnr = 0\n",
    "while count <= 1000 and y_train0[count]!=labelnr  :\n",
    "    count = count + 1\n",
    "print (count)\n",
    "c = x_train0[count]\n",
    "plt.imshow(c, cmap='gray', interpolation='nearest')\n",
    "print(\"Image (#{}): Which is labeled '{}'\".format(count,y_train0[count]))"
   ]
  },
  {
   "cell_type": "markdown",
   "metadata": {},
   "source": [
    "#### Comment2 on missclassification\n",
    "Label 6 are Shirts have most problem with label 0 (82 items), 2 (44 items) and 3 (42 items)\n",
    "Label 2 is just above. 2 and 3 are below\n",
    "They are rather alike compared to shoes and bags"
   ]
  },
  {
   "cell_type": "code",
   "execution_count": 132,
   "metadata": {},
   "outputs": [
    {
     "name": "stdout",
     "output_type": "stream",
     "text": [
      "5\n",
      "Image (#5): Which is labeled '2'\n"
     ]
    },
    {
     "data": {
      "image/png": "[encoded data removed]",
      "text/plain": [
       "<Figure size 432x288 with 1 Axes>"
      ]
     },
     "metadata": {
      "needs_background": "light"
     },
     "output_type": "display_data"
    }
   ],
   "source": [
    "count = 0\n",
    "labelnr = 2\n",
    "while count <= 1000 and y_train0[count]!=labelnr  :\n",
    "    count = count + 1\n",
    "print (count)\n",
    "c = x_train0[count]\n",
    "plt.imshow(c, cmap='gray', interpolation='nearest')\n",
    "print(\"Image (#{}): Which is labeled '{}'\".format(count,y_train0[count]))"
   ]
  },
  {
   "cell_type": "code",
   "execution_count": 133,
   "metadata": {},
   "outputs": [
    {
     "name": "stdout",
     "output_type": "stream",
     "text": [
      "3\n",
      "Image (#3): Which is labeled '3'\n"
     ]
    },
    {
     "data": {
      "image/png": "[encoded data removed]",
      "text/plain": [
       "<Figure size 432x288 with 1 Axes>"
      ]
     },
     "metadata": {
      "needs_background": "light"
     },
     "output_type": "display_data"
    }
   ],
   "source": [
    "count = 0\n",
    "labelnr = 3\n",
    "while count <= 1000 and y_train0[count]!=labelnr  :\n",
    "    count = count + 1\n",
    "print (count)\n",
    "c = x_train0[count]\n",
    "plt.imshow(c, cmap='gray', interpolation='nearest')\n",
    "print(\"Image (#{}): Which is labeled '{}'\".format(count,y_train0[count]))"
   ]
  },
  {
   "cell_type": "code",
   "execution_count": null,
   "metadata": {},
   "outputs": [],
   "source": []
  }
 ],
 "metadata": {
  "kernelspec": {
   "display_name": "Python 3",
   "language": "python",
   "name": "python3"
  },
  "language_info": {
   "codemirror_mode": {
    "name": "ipython",
    "version": 3
   },
   "file_extension": ".py",
   "mimetype": "text/x-python",
   "name": "python",
   "nbconvert_exporter": "python",
   "pygments_lexer": "ipython3",
   "version": "3.8.6"
  }
 },
 "nbformat": 4,
 "nbformat_minor": 4
}
